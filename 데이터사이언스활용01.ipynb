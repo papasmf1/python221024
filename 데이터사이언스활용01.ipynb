{
 "cells": [
  {
   "cell_type": "code",
   "execution_count": 1,
   "metadata": {},
   "outputs": [
    {
     "data": {
      "text/html": [
       "<div>\n",
       "<style scoped>\n",
       "    .dataframe tbody tr th:only-of-type {\n",
       "        vertical-align: middle;\n",
       "    }\n",
       "\n",
       "    .dataframe tbody tr th {\n",
       "        vertical-align: top;\n",
       "    }\n",
       "\n",
       "    .dataframe thead th {\n",
       "        text-align: right;\n",
       "    }\n",
       "</style>\n",
       "<table border=\"1\" class=\"dataframe\">\n",
       "  <thead>\n",
       "    <tr style=\"text-align: right;\">\n",
       "      <th></th>\n",
       "      <th>국적코드</th>\n",
       "      <th>성별</th>\n",
       "      <th>입국객수</th>\n",
       "    </tr>\n",
       "  </thead>\n",
       "  <tbody>\n",
       "    <tr>\n",
       "      <th>0</th>\n",
       "      <td>A01</td>\n",
       "      <td>남성</td>\n",
       "      <td>106320</td>\n",
       "    </tr>\n",
       "    <tr>\n",
       "      <th>1</th>\n",
       "      <td>A01</td>\n",
       "      <td>여성</td>\n",
       "      <td>191436</td>\n",
       "    </tr>\n",
       "    <tr>\n",
       "      <th>2</th>\n",
       "      <td>A31</td>\n",
       "      <td>남성</td>\n",
       "      <td>319</td>\n",
       "    </tr>\n",
       "    <tr>\n",
       "      <th>3</th>\n",
       "      <td>A31</td>\n",
       "      <td>여성</td>\n",
       "      <td>42</td>\n",
       "    </tr>\n",
       "    <tr>\n",
       "      <th>4</th>\n",
       "      <td>A18</td>\n",
       "      <td>남성</td>\n",
       "      <td>158912</td>\n",
       "    </tr>\n",
       "    <tr>\n",
       "      <th>5</th>\n",
       "      <td>A18</td>\n",
       "      <td>여성</td>\n",
       "      <td>232943</td>\n",
       "    </tr>\n",
       "  </tbody>\n",
       "</table>\n",
       "</div>"
      ],
      "text/plain": [
       "  국적코드  성별    입국객수\n",
       "0  A01  남성  106320\n",
       "1  A01  여성  191436\n",
       "2  A31  남성     319\n",
       "3  A31  여성      42\n",
       "4  A18  남성  158912\n",
       "5  A18  여성  232943"
      ]
     },
     "execution_count": 1,
     "metadata": {},
     "output_type": "execute_result"
    }
   ],
   "source": [
    "import pandas as pd \n",
    "\n",
    "sample_1 = pd.read_excel(\"c:\\\\work\\\\data\\\\sample_1.xlsx\", \n",
    "    header=1, skipfooter=2, usecols=\"A:C\")\n",
    "sample_1\n",
    "\n"
   ]
  },
  {
   "cell_type": "code",
   "execution_count": 2,
   "metadata": {},
   "outputs": [
    {
     "name": "stdout",
     "output_type": "stream",
     "text": [
      "<class 'pandas.core.frame.DataFrame'>\n",
      "RangeIndex: 6 entries, 0 to 5\n",
      "Data columns (total 3 columns):\n",
      " #   Column  Non-Null Count  Dtype \n",
      "---  ------  --------------  ----- \n",
      " 0   국적코드    6 non-null      object\n",
      " 1   성별      6 non-null      object\n",
      " 2   입국객수    6 non-null      int64 \n",
      "dtypes: int64(1), object(2)\n",
      "memory usage: 272.0+ bytes\n"
     ]
    }
   ],
   "source": [
    "sample_1.info()"
   ]
  },
  {
   "cell_type": "code",
   "execution_count": 3,
   "metadata": {},
   "outputs": [
    {
     "data": {
      "text/html": [
       "<div>\n",
       "<style scoped>\n",
       "    .dataframe tbody tr th:only-of-type {\n",
       "        vertical-align: middle;\n",
       "    }\n",
       "\n",
       "    .dataframe tbody tr th {\n",
       "        vertical-align: top;\n",
       "    }\n",
       "\n",
       "    .dataframe thead th {\n",
       "        text-align: right;\n",
       "    }\n",
       "</style>\n",
       "<table border=\"1\" class=\"dataframe\">\n",
       "  <thead>\n",
       "    <tr style=\"text-align: right;\">\n",
       "      <th></th>\n",
       "      <th>입국객수</th>\n",
       "    </tr>\n",
       "  </thead>\n",
       "  <tbody>\n",
       "    <tr>\n",
       "      <th>count</th>\n",
       "      <td>6.000000</td>\n",
       "    </tr>\n",
       "    <tr>\n",
       "      <th>mean</th>\n",
       "      <td>114995.333333</td>\n",
       "    </tr>\n",
       "    <tr>\n",
       "      <th>std</th>\n",
       "      <td>98105.752006</td>\n",
       "    </tr>\n",
       "    <tr>\n",
       "      <th>min</th>\n",
       "      <td>42.000000</td>\n",
       "    </tr>\n",
       "    <tr>\n",
       "      <th>25%</th>\n",
       "      <td>26819.250000</td>\n",
       "    </tr>\n",
       "    <tr>\n",
       "      <th>50%</th>\n",
       "      <td>132616.000000</td>\n",
       "    </tr>\n",
       "    <tr>\n",
       "      <th>75%</th>\n",
       "      <td>183305.000000</td>\n",
       "    </tr>\n",
       "    <tr>\n",
       "      <th>max</th>\n",
       "      <td>232943.000000</td>\n",
       "    </tr>\n",
       "  </tbody>\n",
       "</table>\n",
       "</div>"
      ],
      "text/plain": [
       "                입국객수\n",
       "count       6.000000\n",
       "mean   114995.333333\n",
       "std     98105.752006\n",
       "min        42.000000\n",
       "25%     26819.250000\n",
       "50%    132616.000000\n",
       "75%    183305.000000\n",
       "max    232943.000000"
      ]
     },
     "execution_count": 3,
     "metadata": {},
     "output_type": "execute_result"
    }
   ],
   "source": [
    "sample_1.describe()"
   ]
  },
  {
   "cell_type": "code",
   "execution_count": 4,
   "metadata": {},
   "outputs": [
    {
     "data": {
      "text/plain": [
       "0    106320\n",
       "1    191436\n",
       "2       319\n",
       "3        42\n",
       "4    158912\n",
       "5    232943\n",
       "Name: 입국객수, dtype: int64"
      ]
     },
     "execution_count": 4,
     "metadata": {},
     "output_type": "execute_result"
    }
   ],
   "source": [
    "sample_1[\"입국객수\"]"
   ]
  },
  {
   "cell_type": "code",
   "execution_count": 5,
   "metadata": {},
   "outputs": [
    {
     "data": {
      "text/html": [
       "<div>\n",
       "<style scoped>\n",
       "    .dataframe tbody tr th:only-of-type {\n",
       "        vertical-align: middle;\n",
       "    }\n",
       "\n",
       "    .dataframe tbody tr th {\n",
       "        vertical-align: top;\n",
       "    }\n",
       "\n",
       "    .dataframe thead th {\n",
       "        text-align: right;\n",
       "    }\n",
       "</style>\n",
       "<table border=\"1\" class=\"dataframe\">\n",
       "  <thead>\n",
       "    <tr style=\"text-align: right;\">\n",
       "      <th></th>\n",
       "      <th>국적코드</th>\n",
       "      <th>입국객수</th>\n",
       "    </tr>\n",
       "  </thead>\n",
       "  <tbody>\n",
       "    <tr>\n",
       "      <th>0</th>\n",
       "      <td>A01</td>\n",
       "      <td>106320</td>\n",
       "    </tr>\n",
       "    <tr>\n",
       "      <th>1</th>\n",
       "      <td>A01</td>\n",
       "      <td>191436</td>\n",
       "    </tr>\n",
       "    <tr>\n",
       "      <th>2</th>\n",
       "      <td>A31</td>\n",
       "      <td>319</td>\n",
       "    </tr>\n",
       "    <tr>\n",
       "      <th>3</th>\n",
       "      <td>A31</td>\n",
       "      <td>42</td>\n",
       "    </tr>\n",
       "    <tr>\n",
       "      <th>4</th>\n",
       "      <td>A18</td>\n",
       "      <td>158912</td>\n",
       "    </tr>\n",
       "    <tr>\n",
       "      <th>5</th>\n",
       "      <td>A18</td>\n",
       "      <td>232943</td>\n",
       "    </tr>\n",
       "  </tbody>\n",
       "</table>\n",
       "</div>"
      ],
      "text/plain": [
       "  국적코드    입국객수\n",
       "0  A01  106320\n",
       "1  A01  191436\n",
       "2  A31     319\n",
       "3  A31      42\n",
       "4  A18  158912\n",
       "5  A18  232943"
      ]
     },
     "execution_count": 5,
     "metadata": {},
     "output_type": "execute_result"
    }
   ],
   "source": [
    "sample_1[ [\"국적코드\",\"입국객수\"] ]\n"
   ]
  },
  {
   "cell_type": "code",
   "execution_count": 6,
   "metadata": {},
   "outputs": [
    {
     "data": {
      "text/html": [
       "<div>\n",
       "<style scoped>\n",
       "    .dataframe tbody tr th:only-of-type {\n",
       "        vertical-align: middle;\n",
       "    }\n",
       "\n",
       "    .dataframe tbody tr th {\n",
       "        vertical-align: top;\n",
       "    }\n",
       "\n",
       "    .dataframe thead th {\n",
       "        text-align: right;\n",
       "    }\n",
       "</style>\n",
       "<table border=\"1\" class=\"dataframe\">\n",
       "  <thead>\n",
       "    <tr style=\"text-align: right;\">\n",
       "      <th></th>\n",
       "      <th>국적코드</th>\n",
       "      <th>성별</th>\n",
       "      <th>입국객수</th>\n",
       "      <th>기준년월</th>\n",
       "    </tr>\n",
       "  </thead>\n",
       "  <tbody>\n",
       "    <tr>\n",
       "      <th>0</th>\n",
       "      <td>A01</td>\n",
       "      <td>남성</td>\n",
       "      <td>106320</td>\n",
       "      <td>2019-11</td>\n",
       "    </tr>\n",
       "    <tr>\n",
       "      <th>1</th>\n",
       "      <td>A01</td>\n",
       "      <td>여성</td>\n",
       "      <td>191436</td>\n",
       "      <td>2019-11</td>\n",
       "    </tr>\n",
       "    <tr>\n",
       "      <th>2</th>\n",
       "      <td>A31</td>\n",
       "      <td>남성</td>\n",
       "      <td>319</td>\n",
       "      <td>2019-11</td>\n",
       "    </tr>\n",
       "    <tr>\n",
       "      <th>3</th>\n",
       "      <td>A31</td>\n",
       "      <td>여성</td>\n",
       "      <td>42</td>\n",
       "      <td>2019-11</td>\n",
       "    </tr>\n",
       "    <tr>\n",
       "      <th>4</th>\n",
       "      <td>A18</td>\n",
       "      <td>남성</td>\n",
       "      <td>158912</td>\n",
       "      <td>2019-11</td>\n",
       "    </tr>\n",
       "    <tr>\n",
       "      <th>5</th>\n",
       "      <td>A18</td>\n",
       "      <td>여성</td>\n",
       "      <td>232943</td>\n",
       "      <td>2019-11</td>\n",
       "    </tr>\n",
       "  </tbody>\n",
       "</table>\n",
       "</div>"
      ],
      "text/plain": [
       "  국적코드  성별    입국객수     기준년월\n",
       "0  A01  남성  106320  2019-11\n",
       "1  A01  여성  191436  2019-11\n",
       "2  A31  남성     319  2019-11\n",
       "3  A31  여성      42  2019-11\n",
       "4  A18  남성  158912  2019-11\n",
       "5  A18  여성  232943  2019-11"
      ]
     },
     "execution_count": 6,
     "metadata": {},
     "output_type": "execute_result"
    }
   ],
   "source": [
    "#기존에 없는 '기준년월'이라는 컬럼을 추가하고 데이터를 추가한다. \n",
    "sample_1['기준년월'] = '2019-11'\n",
    "sample_1"
   ]
  },
  {
   "cell_type": "code",
   "execution_count": 7,
   "metadata": {},
   "outputs": [
    {
     "data": {
      "text/plain": [
       "0     True\n",
       "1    False\n",
       "2     True\n",
       "3    False\n",
       "4     True\n",
       "5    False\n",
       "Name: 성별, dtype: bool"
      ]
     },
     "execution_count": 7,
     "metadata": {},
     "output_type": "execute_result"
    }
   ],
   "source": [
    "#필터링실습\n",
    "condition = (sample_1['성별'] == '남성')\n",
    "condition "
   ]
  },
  {
   "cell_type": "code",
   "execution_count": 8,
   "metadata": {},
   "outputs": [
    {
     "data": {
      "text/html": [
       "<div>\n",
       "<style scoped>\n",
       "    .dataframe tbody tr th:only-of-type {\n",
       "        vertical-align: middle;\n",
       "    }\n",
       "\n",
       "    .dataframe tbody tr th {\n",
       "        vertical-align: top;\n",
       "    }\n",
       "\n",
       "    .dataframe thead th {\n",
       "        text-align: right;\n",
       "    }\n",
       "</style>\n",
       "<table border=\"1\" class=\"dataframe\">\n",
       "  <thead>\n",
       "    <tr style=\"text-align: right;\">\n",
       "      <th></th>\n",
       "      <th>국적코드</th>\n",
       "      <th>성별</th>\n",
       "      <th>입국객수</th>\n",
       "      <th>기준년월</th>\n",
       "    </tr>\n",
       "  </thead>\n",
       "  <tbody>\n",
       "    <tr>\n",
       "      <th>0</th>\n",
       "      <td>A01</td>\n",
       "      <td>남성</td>\n",
       "      <td>106320</td>\n",
       "      <td>2019-11</td>\n",
       "    </tr>\n",
       "    <tr>\n",
       "      <th>2</th>\n",
       "      <td>A31</td>\n",
       "      <td>남성</td>\n",
       "      <td>319</td>\n",
       "      <td>2019-11</td>\n",
       "    </tr>\n",
       "    <tr>\n",
       "      <th>4</th>\n",
       "      <td>A18</td>\n",
       "      <td>남성</td>\n",
       "      <td>158912</td>\n",
       "      <td>2019-11</td>\n",
       "    </tr>\n",
       "  </tbody>\n",
       "</table>\n",
       "</div>"
      ],
      "text/plain": [
       "  국적코드  성별    입국객수     기준년월\n",
       "0  A01  남성  106320  2019-11\n",
       "2  A31  남성     319  2019-11\n",
       "4  A18  남성  158912  2019-11"
      ]
     },
     "execution_count": 8,
     "metadata": {},
     "output_type": "execute_result"
    }
   ],
   "source": [
    "sample_1[condition]"
   ]
  },
  {
   "cell_type": "code",
   "execution_count": 9,
   "metadata": {},
   "outputs": [
    {
     "data": {
      "text/html": [
       "<div>\n",
       "<style scoped>\n",
       "    .dataframe tbody tr th:only-of-type {\n",
       "        vertical-align: middle;\n",
       "    }\n",
       "\n",
       "    .dataframe tbody tr th {\n",
       "        vertical-align: top;\n",
       "    }\n",
       "\n",
       "    .dataframe thead th {\n",
       "        text-align: right;\n",
       "    }\n",
       "</style>\n",
       "<table border=\"1\" class=\"dataframe\">\n",
       "  <thead>\n",
       "    <tr style=\"text-align: right;\">\n",
       "      <th></th>\n",
       "      <th>국적코드</th>\n",
       "      <th>성별</th>\n",
       "      <th>입국객수</th>\n",
       "      <th>기준년월</th>\n",
       "    </tr>\n",
       "  </thead>\n",
       "  <tbody>\n",
       "    <tr>\n",
       "      <th>1</th>\n",
       "      <td>A01</td>\n",
       "      <td>여성</td>\n",
       "      <td>191436</td>\n",
       "      <td>2019-11</td>\n",
       "    </tr>\n",
       "    <tr>\n",
       "      <th>4</th>\n",
       "      <td>A18</td>\n",
       "      <td>남성</td>\n",
       "      <td>158912</td>\n",
       "      <td>2019-11</td>\n",
       "    </tr>\n",
       "    <tr>\n",
       "      <th>5</th>\n",
       "      <td>A18</td>\n",
       "      <td>여성</td>\n",
       "      <td>232943</td>\n",
       "      <td>2019-11</td>\n",
       "    </tr>\n",
       "  </tbody>\n",
       "</table>\n",
       "</div>"
      ],
      "text/plain": [
       "  국적코드  성별    입국객수     기준년월\n",
       "1  A01  여성  191436  2019-11\n",
       "4  A18  남성  158912  2019-11\n",
       "5  A18  여성  232943  2019-11"
      ]
     },
     "execution_count": 9,
     "metadata": {},
     "output_type": "execute_result"
    }
   ],
   "source": [
    "condition = (sample_1['입국객수'] >= 150000)\n",
    "sample_1[condition]"
   ]
  },
  {
   "cell_type": "code",
   "execution_count": 10,
   "metadata": {},
   "outputs": [
    {
     "data": {
      "text/plain": [
       "0    False\n",
       "1    False\n",
       "2    False\n",
       "3    False\n",
       "4     True\n",
       "5    False\n",
       "dtype: bool"
      ]
     },
     "execution_count": 10,
     "metadata": {},
     "output_type": "execute_result"
    }
   ],
   "source": [
    "#이번에는 조건이 여러개인 경우 \n",
    "conditions = (sample_1['성별'] == '남성') & (sample_1['입국객수'] >= 150000)\n",
    "conditions"
   ]
  },
  {
   "cell_type": "code",
   "execution_count": 11,
   "metadata": {},
   "outputs": [
    {
     "data": {
      "text/html": [
       "<div>\n",
       "<style scoped>\n",
       "    .dataframe tbody tr th:only-of-type {\n",
       "        vertical-align: middle;\n",
       "    }\n",
       "\n",
       "    .dataframe tbody tr th {\n",
       "        vertical-align: top;\n",
       "    }\n",
       "\n",
       "    .dataframe thead th {\n",
       "        text-align: right;\n",
       "    }\n",
       "</style>\n",
       "<table border=\"1\" class=\"dataframe\">\n",
       "  <thead>\n",
       "    <tr style=\"text-align: right;\">\n",
       "      <th></th>\n",
       "      <th>국적코드</th>\n",
       "      <th>성별</th>\n",
       "      <th>입국객수</th>\n",
       "      <th>기준년월</th>\n",
       "    </tr>\n",
       "  </thead>\n",
       "  <tbody>\n",
       "    <tr>\n",
       "      <th>4</th>\n",
       "      <td>A18</td>\n",
       "      <td>남성</td>\n",
       "      <td>158912</td>\n",
       "      <td>2019-11</td>\n",
       "    </tr>\n",
       "  </tbody>\n",
       "</table>\n",
       "</div>"
      ],
      "text/plain": [
       "  국적코드  성별    입국객수     기준년월\n",
       "4  A18  남성  158912  2019-11"
      ]
     },
     "execution_count": 11,
     "metadata": {},
     "output_type": "execute_result"
    }
   ],
   "source": [
    "#두개의 컬럼에 대해 필터링하기\n",
    "sample_1[conditions]"
   ]
  },
  {
   "cell_type": "code",
   "execution_count": 13,
   "metadata": {},
   "outputs": [
    {
     "data": {
      "text/html": [
       "<div>\n",
       "<style scoped>\n",
       "    .dataframe tbody tr th:only-of-type {\n",
       "        vertical-align: middle;\n",
       "    }\n",
       "\n",
       "    .dataframe tbody tr th {\n",
       "        vertical-align: top;\n",
       "    }\n",
       "\n",
       "    .dataframe thead th {\n",
       "        text-align: right;\n",
       "    }\n",
       "</style>\n",
       "<table border=\"1\" class=\"dataframe\">\n",
       "  <thead>\n",
       "    <tr style=\"text-align: right;\">\n",
       "      <th></th>\n",
       "      <th>국적코드</th>\n",
       "      <th>성별</th>\n",
       "      <th>입국객수</th>\n",
       "      <th>기준년월</th>\n",
       "    </tr>\n",
       "  </thead>\n",
       "  <tbody>\n",
       "    <tr>\n",
       "      <th>0</th>\n",
       "      <td>A01</td>\n",
       "      <td>남성</td>\n",
       "      <td>106320</td>\n",
       "      <td>2019-11</td>\n",
       "    </tr>\n",
       "    <tr>\n",
       "      <th>1</th>\n",
       "      <td>A01</td>\n",
       "      <td>여성</td>\n",
       "      <td>191436</td>\n",
       "      <td>2019-11</td>\n",
       "    </tr>\n",
       "    <tr>\n",
       "      <th>4</th>\n",
       "      <td>A18</td>\n",
       "      <td>남성</td>\n",
       "      <td>158912</td>\n",
       "      <td>2019-11</td>\n",
       "    </tr>\n",
       "    <tr>\n",
       "      <th>5</th>\n",
       "      <td>A18</td>\n",
       "      <td>여성</td>\n",
       "      <td>232943</td>\n",
       "      <td>2019-11</td>\n",
       "    </tr>\n",
       "  </tbody>\n",
       "</table>\n",
       "</div>"
      ],
      "text/plain": [
       "  국적코드  성별    입국객수     기준년월\n",
       "0  A01  남성  106320  2019-11\n",
       "1  A01  여성  191436  2019-11\n",
       "4  A18  남성  158912  2019-11\n",
       "5  A18  여성  232943  2019-11"
      ]
     },
     "execution_count": 13,
     "metadata": {},
     "output_type": "execute_result"
    }
   ],
   "source": [
    "#여러 조건 중 하나라도 만족하면 되는 경우는 |(or)를 사용한다.\n",
    "conditions = (sample_1['국적코드'] == 'A01') | (sample_1['국적코드'] == 'A18')\n",
    "sample_1[conditions]"
   ]
  },
  {
   "cell_type": "code",
   "execution_count": 14,
   "metadata": {},
   "outputs": [
    {
     "data": {
      "text/plain": [
       "0     True\n",
       "1     True\n",
       "2    False\n",
       "3    False\n",
       "4     True\n",
       "5     True\n",
       "Name: 국적코드, dtype: bool"
      ]
     },
     "execution_count": 14,
     "metadata": {},
     "output_type": "execute_result"
    }
   ],
   "source": [
    "#한 컬럼에 대해 여러 조건으로 필터링하기\n",
    "#파이썬은 in키워드 멤버십 \n",
    "conditions = (sample_1['국적코드'].isin(['A01','A18']))\n",
    "conditions "
   ]
  },
  {
   "cell_type": "code",
   "execution_count": 15,
   "metadata": {},
   "outputs": [
    {
     "data": {
      "text/html": [
       "<div>\n",
       "<style scoped>\n",
       "    .dataframe tbody tr th:only-of-type {\n",
       "        vertical-align: middle;\n",
       "    }\n",
       "\n",
       "    .dataframe tbody tr th {\n",
       "        vertical-align: top;\n",
       "    }\n",
       "\n",
       "    .dataframe thead th {\n",
       "        text-align: right;\n",
       "    }\n",
       "</style>\n",
       "<table border=\"1\" class=\"dataframe\">\n",
       "  <thead>\n",
       "    <tr style=\"text-align: right;\">\n",
       "      <th></th>\n",
       "      <th>국적코드</th>\n",
       "      <th>성별</th>\n",
       "      <th>입국객수</th>\n",
       "      <th>기준년월</th>\n",
       "    </tr>\n",
       "  </thead>\n",
       "  <tbody>\n",
       "    <tr>\n",
       "      <th>0</th>\n",
       "      <td>A01</td>\n",
       "      <td>남성</td>\n",
       "      <td>106320</td>\n",
       "      <td>2019-11</td>\n",
       "    </tr>\n",
       "    <tr>\n",
       "      <th>1</th>\n",
       "      <td>A01</td>\n",
       "      <td>여성</td>\n",
       "      <td>191436</td>\n",
       "      <td>2019-11</td>\n",
       "    </tr>\n",
       "    <tr>\n",
       "      <th>4</th>\n",
       "      <td>A18</td>\n",
       "      <td>남성</td>\n",
       "      <td>158912</td>\n",
       "      <td>2019-11</td>\n",
       "    </tr>\n",
       "    <tr>\n",
       "      <th>5</th>\n",
       "      <td>A18</td>\n",
       "      <td>여성</td>\n",
       "      <td>232943</td>\n",
       "      <td>2019-11</td>\n",
       "    </tr>\n",
       "  </tbody>\n",
       "</table>\n",
       "</div>"
      ],
      "text/plain": [
       "  국적코드  성별    입국객수     기준년월\n",
       "0  A01  남성  106320  2019-11\n",
       "1  A01  여성  191436  2019-11\n",
       "4  A18  남성  158912  2019-11\n",
       "5  A18  여성  232943  2019-11"
      ]
     },
     "execution_count": 15,
     "metadata": {},
     "output_type": "execute_result"
    }
   ],
   "source": [
    "sample_1[conditions]"
   ]
  },
  {
   "cell_type": "code",
   "execution_count": 18,
   "metadata": {},
   "outputs": [
    {
     "data": {
      "text/html": [
       "<div>\n",
       "<style scoped>\n",
       "    .dataframe tbody tr th:only-of-type {\n",
       "        vertical-align: middle;\n",
       "    }\n",
       "\n",
       "    .dataframe tbody tr th {\n",
       "        vertical-align: top;\n",
       "    }\n",
       "\n",
       "    .dataframe thead th {\n",
       "        text-align: right;\n",
       "    }\n",
       "</style>\n",
       "<table border=\"1\" class=\"dataframe\">\n",
       "  <thead>\n",
       "    <tr style=\"text-align: right;\">\n",
       "      <th></th>\n",
       "      <th>국적코드</th>\n",
       "      <th>성별</th>\n",
       "      <th>입국객수</th>\n",
       "      <th>기준년월</th>\n",
       "    </tr>\n",
       "  </thead>\n",
       "  <tbody>\n",
       "    <tr>\n",
       "      <th>2</th>\n",
       "      <td>A31</td>\n",
       "      <td>남성</td>\n",
       "      <td>319</td>\n",
       "      <td>2019-11</td>\n",
       "    </tr>\n",
       "    <tr>\n",
       "      <th>3</th>\n",
       "      <td>A31</td>\n",
       "      <td>여성</td>\n",
       "      <td>42</td>\n",
       "      <td>2019-11</td>\n",
       "    </tr>\n",
       "  </tbody>\n",
       "</table>\n",
       "</div>"
      ],
      "text/plain": [
       "  국적코드  성별  입국객수     기준년월\n",
       "2  A31  남성   319  2019-11\n",
       "3  A31  여성    42  2019-11"
      ]
     },
     "execution_count": 18,
     "metadata": {},
     "output_type": "execute_result"
    }
   ],
   "source": [
    "#만약 국적코드에서 A01,A18에 해당하지 않는 경우만 보고 싶다면 \n",
    "conditions = (sample_1['국적코드'].isin(['A01','A18']))\n",
    "sample_1[conditions == False]\n"
   ]
  },
  {
   "cell_type": "code",
   "execution_count": 16,
   "metadata": {},
   "outputs": [
    {
     "data": {
      "text/html": [
       "<div>\n",
       "<style scoped>\n",
       "    .dataframe tbody tr th:only-of-type {\n",
       "        vertical-align: middle;\n",
       "    }\n",
       "\n",
       "    .dataframe tbody tr th {\n",
       "        vertical-align: top;\n",
       "    }\n",
       "\n",
       "    .dataframe thead th {\n",
       "        text-align: right;\n",
       "    }\n",
       "</style>\n",
       "<table border=\"1\" class=\"dataframe\">\n",
       "  <thead>\n",
       "    <tr style=\"text-align: right;\">\n",
       "      <th></th>\n",
       "      <th>국적코드</th>\n",
       "      <th>국적명</th>\n",
       "    </tr>\n",
       "  </thead>\n",
       "  <tbody>\n",
       "    <tr>\n",
       "      <th>0</th>\n",
       "      <td>A01</td>\n",
       "      <td>일본</td>\n",
       "    </tr>\n",
       "    <tr>\n",
       "      <th>1</th>\n",
       "      <td>A02</td>\n",
       "      <td>대만</td>\n",
       "    </tr>\n",
       "    <tr>\n",
       "      <th>2</th>\n",
       "      <td>A03</td>\n",
       "      <td>홍콩</td>\n",
       "    </tr>\n",
       "    <tr>\n",
       "      <th>3</th>\n",
       "      <td>A18</td>\n",
       "      <td>중국</td>\n",
       "    </tr>\n",
       "    <tr>\n",
       "      <th>4</th>\n",
       "      <td>A19</td>\n",
       "      <td>이란</td>\n",
       "    </tr>\n",
       "    <tr>\n",
       "      <th>5</th>\n",
       "      <td>A22</td>\n",
       "      <td>우즈베키스탄</td>\n",
       "    </tr>\n",
       "    <tr>\n",
       "      <th>6</th>\n",
       "      <td>A23</td>\n",
       "      <td>카자흐스탄</td>\n",
       "    </tr>\n",
       "    <tr>\n",
       "      <th>7</th>\n",
       "      <td>A99</td>\n",
       "      <td>아시아 기타</td>\n",
       "    </tr>\n",
       "  </tbody>\n",
       "</table>\n",
       "</div>"
      ],
      "text/plain": [
       "  국적코드     국적명\n",
       "0  A01      일본\n",
       "1  A02      대만\n",
       "2  A03      홍콩\n",
       "3  A18      중국\n",
       "4  A19      이란\n",
       "5  A22  우즈베키스탄\n",
       "6  A23   카자흐스탄\n",
       "7  A99  아시아 기타"
      ]
     },
     "execution_count": 16,
     "metadata": {},
     "output_type": "execute_result"
    }
   ],
   "source": [
    "#데이터 통합 - 옆으로 통합(merge)\n",
    "#지금까지 국적이 코드로 표현돼 있어 실제로 어느 나라에 대한 입국객수인지 알 수가 없다. \n",
    "#이번에는 엑셀에서의 vloopup함수로 처리했던 작업을 파이썬에서 어떻게 처리하는지 살펴본다. \n",
    "code_master = pd.read_excel('c:\\\\work\\\\data\\\\sample_codemaster.xlsx')\n",
    "code_master"
   ]
  },
  {
   "cell_type": "code",
   "execution_count": 17,
   "metadata": {},
   "outputs": [
    {
     "data": {
      "text/html": [
       "<div>\n",
       "<style scoped>\n",
       "    .dataframe tbody tr th:only-of-type {\n",
       "        vertical-align: middle;\n",
       "    }\n",
       "\n",
       "    .dataframe tbody tr th {\n",
       "        vertical-align: top;\n",
       "    }\n",
       "\n",
       "    .dataframe thead th {\n",
       "        text-align: right;\n",
       "    }\n",
       "</style>\n",
       "<table border=\"1\" class=\"dataframe\">\n",
       "  <thead>\n",
       "    <tr style=\"text-align: right;\">\n",
       "      <th></th>\n",
       "      <th>국적코드</th>\n",
       "      <th>성별</th>\n",
       "      <th>입국객수</th>\n",
       "      <th>기준년월</th>\n",
       "      <th>국적명</th>\n",
       "    </tr>\n",
       "  </thead>\n",
       "  <tbody>\n",
       "    <tr>\n",
       "      <th>0</th>\n",
       "      <td>A01</td>\n",
       "      <td>남성</td>\n",
       "      <td>106320</td>\n",
       "      <td>2019-11</td>\n",
       "      <td>일본</td>\n",
       "    </tr>\n",
       "    <tr>\n",
       "      <th>1</th>\n",
       "      <td>A01</td>\n",
       "      <td>여성</td>\n",
       "      <td>191436</td>\n",
       "      <td>2019-11</td>\n",
       "      <td>일본</td>\n",
       "    </tr>\n",
       "    <tr>\n",
       "      <th>2</th>\n",
       "      <td>A18</td>\n",
       "      <td>남성</td>\n",
       "      <td>158912</td>\n",
       "      <td>2019-11</td>\n",
       "      <td>중국</td>\n",
       "    </tr>\n",
       "    <tr>\n",
       "      <th>3</th>\n",
       "      <td>A18</td>\n",
       "      <td>여성</td>\n",
       "      <td>232943</td>\n",
       "      <td>2019-11</td>\n",
       "      <td>중국</td>\n",
       "    </tr>\n",
       "  </tbody>\n",
       "</table>\n",
       "</div>"
      ],
      "text/plain": [
       "  국적코드  성별    입국객수     기준년월 국적명\n",
       "0  A01  남성  106320  2019-11  일본\n",
       "1  A01  여성  191436  2019-11  일본\n",
       "2  A18  남성  158912  2019-11  중국\n",
       "3  A18  여성  232943  2019-11  중국"
      ]
     },
     "execution_count": 17,
     "metadata": {},
     "output_type": "execute_result"
    }
   ],
   "source": [
    "#왼쪽과 오른쪽 테이블을 어떻게 정할지 지정(left, right)\n",
    "#how는 왼쪽 테이블을 기준으로 두 테이블을 결합한다고 지정\n",
    "#left_on 왼쪽 테이블의 기준 컬럼은 국적코드다.\n",
    "#right_on 오른쪽 테이블의 기준 컬럼은 국적코드다. \n",
    "sample_1_code = pd.merge(left = sample_1,\n",
    "    right = code_master,\n",
    "    how = 'inner',\n",
    "    left_on = '국적코드',\n",
    "    right_on = '국적코드')\n",
    "sample_1_code"
   ]
  },
  {
   "cell_type": "code",
   "execution_count": 19,
   "metadata": {},
   "outputs": [
    {
     "data": {
      "text/html": [
       "<div>\n",
       "<style scoped>\n",
       "    .dataframe tbody tr th:only-of-type {\n",
       "        vertical-align: middle;\n",
       "    }\n",
       "\n",
       "    .dataframe tbody tr th {\n",
       "        vertical-align: top;\n",
       "    }\n",
       "\n",
       "    .dataframe thead th {\n",
       "        text-align: right;\n",
       "    }\n",
       "</style>\n",
       "<table border=\"1\" class=\"dataframe\">\n",
       "  <thead>\n",
       "    <tr style=\"text-align: right;\">\n",
       "      <th></th>\n",
       "      <th>국적코드</th>\n",
       "      <th>성별</th>\n",
       "      <th>입국객수</th>\n",
       "      <th>기준년월</th>\n",
       "      <th>국적명</th>\n",
       "    </tr>\n",
       "  </thead>\n",
       "  <tbody>\n",
       "    <tr>\n",
       "      <th>0</th>\n",
       "      <td>A01</td>\n",
       "      <td>남성</td>\n",
       "      <td>106320</td>\n",
       "      <td>2019-11</td>\n",
       "      <td>일본</td>\n",
       "    </tr>\n",
       "    <tr>\n",
       "      <th>1</th>\n",
       "      <td>A01</td>\n",
       "      <td>여성</td>\n",
       "      <td>191436</td>\n",
       "      <td>2019-11</td>\n",
       "      <td>일본</td>\n",
       "    </tr>\n",
       "    <tr>\n",
       "      <th>2</th>\n",
       "      <td>A18</td>\n",
       "      <td>남성</td>\n",
       "      <td>158912</td>\n",
       "      <td>2019-11</td>\n",
       "      <td>중국</td>\n",
       "    </tr>\n",
       "    <tr>\n",
       "      <th>3</th>\n",
       "      <td>A18</td>\n",
       "      <td>여성</td>\n",
       "      <td>232943</td>\n",
       "      <td>2019-11</td>\n",
       "      <td>중국</td>\n",
       "    </tr>\n",
       "  </tbody>\n",
       "</table>\n",
       "</div>"
      ],
      "text/plain": [
       "  국적코드  성별    입국객수     기준년월 국적명\n",
       "0  A01  남성  106320  2019-11  일본\n",
       "1  A01  여성  191436  2019-11  일본\n",
       "2  A18  남성  158912  2019-11  중국\n",
       "3  A18  여성  232943  2019-11  중국"
      ]
     },
     "execution_count": 19,
     "metadata": {},
     "output_type": "execute_result"
    }
   ],
   "source": [
    "#NaN값이 출력되서 만약 양쪽 테이블에서 공통으로 존재하는 경우에 대해 출력하고 싶다면 \n",
    "#how = inner는 두 테이블의 기준 컬럼의 값이 서로 일치하는 경우에만 데이터를 통합하는 옵션이다. \n",
    "sample_1_code_inner = pd.merge(left = sample_1, \n",
    "    right = code_master,\n",
    "    how = 'inner',\n",
    "    left_on = '국적코드',\n",
    "    right_on = '국적코드')\n",
    "sample_1_code_inner "
   ]
  },
  {
   "cell_type": "code",
   "execution_count": 20,
   "metadata": {},
   "outputs": [
    {
     "data": {
      "text/html": [
       "<div>\n",
       "<style scoped>\n",
       "    .dataframe tbody tr th:only-of-type {\n",
       "        vertical-align: middle;\n",
       "    }\n",
       "\n",
       "    .dataframe tbody tr th {\n",
       "        vertical-align: top;\n",
       "    }\n",
       "\n",
       "    .dataframe thead th {\n",
       "        text-align: right;\n",
       "    }\n",
       "</style>\n",
       "<table border=\"1\" class=\"dataframe\">\n",
       "  <thead>\n",
       "    <tr style=\"text-align: right;\">\n",
       "      <th></th>\n",
       "      <th>국적코드</th>\n",
       "      <th>성별</th>\n",
       "      <th>입국객수</th>\n",
       "      <th>기준년월</th>\n",
       "      <th>국적명</th>\n",
       "    </tr>\n",
       "  </thead>\n",
       "  <tbody>\n",
       "    <tr>\n",
       "      <th>0</th>\n",
       "      <td>A01</td>\n",
       "      <td>남성</td>\n",
       "      <td>92556</td>\n",
       "      <td>2019-12</td>\n",
       "      <td>일본</td>\n",
       "    </tr>\n",
       "    <tr>\n",
       "      <th>1</th>\n",
       "      <td>A01</td>\n",
       "      <td>여성</td>\n",
       "      <td>163737</td>\n",
       "      <td>2019-12</td>\n",
       "      <td>일본</td>\n",
       "    </tr>\n",
       "    <tr>\n",
       "      <th>2</th>\n",
       "      <td>A18</td>\n",
       "      <td>남성</td>\n",
       "      <td>155540</td>\n",
       "      <td>2019-12</td>\n",
       "      <td>중국</td>\n",
       "    </tr>\n",
       "    <tr>\n",
       "      <th>3</th>\n",
       "      <td>A18</td>\n",
       "      <td>여성</td>\n",
       "      <td>249023</td>\n",
       "      <td>2019-12</td>\n",
       "      <td>중국</td>\n",
       "    </tr>\n",
       "  </tbody>\n",
       "</table>\n",
       "</div>"
      ],
      "text/plain": [
       "  국적코드  성별    입국객수     기준년월 국적명\n",
       "0  A01  남성   92556  2019-12  일본\n",
       "1  A01  여성  163737  2019-12  일본\n",
       "2  A18  남성  155540  2019-12  중국\n",
       "3  A18  여성  249023  2019-12  중국"
      ]
     },
     "execution_count": 20,
     "metadata": {},
     "output_type": "execute_result"
    }
   ],
   "source": [
    "#데이터 통합 - 아래로 통합(append)\n",
    "#월별로 관리, 년간관리하는 파일들을 통합하는 경우\n",
    "sample_2 = pd.read_excel('c:\\\\work\\\\data\\\\sample_2.xlsx', header=1,\n",
    "    skipfooter=2,usecols='A:C')\n",
    "sample_2['기준년월'] = '2019-12'\n",
    "\n",
    "sample_2_code = pd.merge(left=sample_2, \n",
    "        right = code_master,\n",
    "        how = 'left',\n",
    "        left_on = '국적코드',\n",
    "        right_on = '국적코드')\n",
    "sample_2_code "
   ]
  },
  {
   "cell_type": "code",
   "execution_count": 35,
   "metadata": {},
   "outputs": [
    {
     "data": {
      "text/html": [
       "<div>\n",
       "<style scoped>\n",
       "    .dataframe tbody tr th:only-of-type {\n",
       "        vertical-align: middle;\n",
       "    }\n",
       "\n",
       "    .dataframe tbody tr th {\n",
       "        vertical-align: top;\n",
       "    }\n",
       "\n",
       "    .dataframe thead th {\n",
       "        text-align: right;\n",
       "    }\n",
       "</style>\n",
       "<table border=\"1\" class=\"dataframe\">\n",
       "  <thead>\n",
       "    <tr style=\"text-align: right;\">\n",
       "      <th></th>\n",
       "      <th>국적코드</th>\n",
       "      <th>성별</th>\n",
       "      <th>입국객수</th>\n",
       "      <th>기준년월</th>\n",
       "      <th>국적명</th>\n",
       "    </tr>\n",
       "  </thead>\n",
       "  <tbody>\n",
       "    <tr>\n",
       "      <th>0</th>\n",
       "      <td>A01</td>\n",
       "      <td>남성</td>\n",
       "      <td>106320</td>\n",
       "      <td>2019-11</td>\n",
       "      <td>일본</td>\n",
       "    </tr>\n",
       "    <tr>\n",
       "      <th>1</th>\n",
       "      <td>A01</td>\n",
       "      <td>여성</td>\n",
       "      <td>191436</td>\n",
       "      <td>2019-11</td>\n",
       "      <td>일본</td>\n",
       "    </tr>\n",
       "    <tr>\n",
       "      <th>2</th>\n",
       "      <td>A31</td>\n",
       "      <td>남성</td>\n",
       "      <td>319</td>\n",
       "      <td>2019-11</td>\n",
       "      <td>NaN</td>\n",
       "    </tr>\n",
       "    <tr>\n",
       "      <th>3</th>\n",
       "      <td>A31</td>\n",
       "      <td>여성</td>\n",
       "      <td>42</td>\n",
       "      <td>2019-11</td>\n",
       "      <td>NaN</td>\n",
       "    </tr>\n",
       "    <tr>\n",
       "      <th>4</th>\n",
       "      <td>A18</td>\n",
       "      <td>남성</td>\n",
       "      <td>158912</td>\n",
       "      <td>2019-11</td>\n",
       "      <td>중국</td>\n",
       "    </tr>\n",
       "    <tr>\n",
       "      <th>5</th>\n",
       "      <td>A18</td>\n",
       "      <td>여성</td>\n",
       "      <td>232943</td>\n",
       "      <td>2019-11</td>\n",
       "      <td>중국</td>\n",
       "    </tr>\n",
       "  </tbody>\n",
       "</table>\n",
       "</div>"
      ],
      "text/plain": [
       "  국적코드  성별    입국객수     기준년월  국적명\n",
       "0  A01  남성  106320  2019-11   일본\n",
       "1  A01  여성  191436  2019-11   일본\n",
       "2  A31  남성     319  2019-11  NaN\n",
       "3  A31  여성      42  2019-11  NaN\n",
       "4  A18  남성  158912  2019-11   중국\n",
       "5  A18  여성  232943  2019-11   중국"
      ]
     },
     "execution_count": 35,
     "metadata": {},
     "output_type": "execute_result"
    }
   ],
   "source": [
    "sample_1_code"
   ]
  },
  {
   "cell_type": "code",
   "execution_count": 22,
   "metadata": {},
   "outputs": [
    {
     "data": {
      "text/html": [
       "<div>\n",
       "<style scoped>\n",
       "    .dataframe tbody tr th:only-of-type {\n",
       "        vertical-align: middle;\n",
       "    }\n",
       "\n",
       "    .dataframe tbody tr th {\n",
       "        vertical-align: top;\n",
       "    }\n",
       "\n",
       "    .dataframe thead th {\n",
       "        text-align: right;\n",
       "    }\n",
       "</style>\n",
       "<table border=\"1\" class=\"dataframe\">\n",
       "  <thead>\n",
       "    <tr style=\"text-align: right;\">\n",
       "      <th></th>\n",
       "      <th>국적코드</th>\n",
       "      <th>성별</th>\n",
       "      <th>입국객수</th>\n",
       "      <th>기준년월</th>\n",
       "    </tr>\n",
       "  </thead>\n",
       "  <tbody>\n",
       "    <tr>\n",
       "      <th>0</th>\n",
       "      <td>A01</td>\n",
       "      <td>남성</td>\n",
       "      <td>106320</td>\n",
       "      <td>2019-11</td>\n",
       "    </tr>\n",
       "    <tr>\n",
       "      <th>1</th>\n",
       "      <td>A01</td>\n",
       "      <td>여성</td>\n",
       "      <td>191436</td>\n",
       "      <td>2019-11</td>\n",
       "    </tr>\n",
       "    <tr>\n",
       "      <th>2</th>\n",
       "      <td>A31</td>\n",
       "      <td>남성</td>\n",
       "      <td>319</td>\n",
       "      <td>2019-11</td>\n",
       "    </tr>\n",
       "    <tr>\n",
       "      <th>3</th>\n",
       "      <td>A31</td>\n",
       "      <td>여성</td>\n",
       "      <td>42</td>\n",
       "      <td>2019-11</td>\n",
       "    </tr>\n",
       "    <tr>\n",
       "      <th>4</th>\n",
       "      <td>A18</td>\n",
       "      <td>남성</td>\n",
       "      <td>158912</td>\n",
       "      <td>2019-11</td>\n",
       "    </tr>\n",
       "    <tr>\n",
       "      <th>5</th>\n",
       "      <td>A18</td>\n",
       "      <td>여성</td>\n",
       "      <td>232943</td>\n",
       "      <td>2019-11</td>\n",
       "    </tr>\n",
       "    <tr>\n",
       "      <th>0</th>\n",
       "      <td>A01</td>\n",
       "      <td>남성</td>\n",
       "      <td>92556</td>\n",
       "      <td>2019-12</td>\n",
       "    </tr>\n",
       "    <tr>\n",
       "      <th>1</th>\n",
       "      <td>A01</td>\n",
       "      <td>여성</td>\n",
       "      <td>163737</td>\n",
       "      <td>2019-12</td>\n",
       "    </tr>\n",
       "    <tr>\n",
       "      <th>2</th>\n",
       "      <td>A18</td>\n",
       "      <td>남성</td>\n",
       "      <td>155540</td>\n",
       "      <td>2019-12</td>\n",
       "    </tr>\n",
       "    <tr>\n",
       "      <th>3</th>\n",
       "      <td>A18</td>\n",
       "      <td>여성</td>\n",
       "      <td>249023</td>\n",
       "      <td>2019-12</td>\n",
       "    </tr>\n",
       "  </tbody>\n",
       "</table>\n",
       "</div>"
      ],
      "text/plain": [
       "  국적코드  성별    입국객수     기준년월\n",
       "0  A01  남성  106320  2019-11\n",
       "1  A01  여성  191436  2019-11\n",
       "2  A31  남성     319  2019-11\n",
       "3  A31  여성      42  2019-11\n",
       "4  A18  남성  158912  2019-11\n",
       "5  A18  여성  232943  2019-11\n",
       "0  A01  남성   92556  2019-12\n",
       "1  A01  여성  163737  2019-12\n",
       "2  A18  남성  155540  2019-12\n",
       "3  A18  여성  249023  2019-12"
      ]
     },
     "execution_count": 22,
     "metadata": {},
     "output_type": "execute_result"
    }
   ],
   "source": [
    "#두 데이터의 컬럼 순서가 동일한 것을 확인했으니 pd.append()를 사용해서 통합한다. \n",
    "#원래의 인덱스를 사용하지 않으려고 ignore_index = True를 지정함. \n",
    "# sample = sample_1_code.append(sample_2_code, ignore_index = True)\n",
    "# sample \n",
    "\n",
    "#concat()를 사용한 경우\n",
    "sample2 = pd.concat([sample_1,sample_2])\n",
    "sample2 "
   ]
  },
  {
   "cell_type": "code",
   "execution_count": 37,
   "metadata": {},
   "outputs": [
    {
     "data": {
      "text/html": [
       "<div>\n",
       "<style scoped>\n",
       "    .dataframe tbody tr th:only-of-type {\n",
       "        vertical-align: middle;\n",
       "    }\n",
       "\n",
       "    .dataframe tbody tr th {\n",
       "        vertical-align: top;\n",
       "    }\n",
       "\n",
       "    .dataframe thead th {\n",
       "        text-align: right;\n",
       "    }\n",
       "</style>\n",
       "<table border=\"1\" class=\"dataframe\">\n",
       "  <thead>\n",
       "    <tr style=\"text-align: right;\">\n",
       "      <th></th>\n",
       "      <th>국적코드</th>\n",
       "      <th>성별</th>\n",
       "      <th>입국객수</th>\n",
       "      <th>기준년월</th>\n",
       "      <th>국적명</th>\n",
       "    </tr>\n",
       "  </thead>\n",
       "  <tbody>\n",
       "    <tr>\n",
       "      <th>0</th>\n",
       "      <td>A01</td>\n",
       "      <td>남성</td>\n",
       "      <td>106320</td>\n",
       "      <td>2019-11</td>\n",
       "      <td>일본</td>\n",
       "    </tr>\n",
       "    <tr>\n",
       "      <th>1</th>\n",
       "      <td>A01</td>\n",
       "      <td>여성</td>\n",
       "      <td>191436</td>\n",
       "      <td>2019-11</td>\n",
       "      <td>일본</td>\n",
       "    </tr>\n",
       "    <tr>\n",
       "      <th>2</th>\n",
       "      <td>A31</td>\n",
       "      <td>남성</td>\n",
       "      <td>319</td>\n",
       "      <td>2019-11</td>\n",
       "      <td>NaN</td>\n",
       "    </tr>\n",
       "    <tr>\n",
       "      <th>3</th>\n",
       "      <td>A31</td>\n",
       "      <td>여성</td>\n",
       "      <td>42</td>\n",
       "      <td>2019-11</td>\n",
       "      <td>NaN</td>\n",
       "    </tr>\n",
       "    <tr>\n",
       "      <th>4</th>\n",
       "      <td>A18</td>\n",
       "      <td>남성</td>\n",
       "      <td>158912</td>\n",
       "      <td>2019-11</td>\n",
       "      <td>중국</td>\n",
       "    </tr>\n",
       "    <tr>\n",
       "      <th>5</th>\n",
       "      <td>A18</td>\n",
       "      <td>여성</td>\n",
       "      <td>232943</td>\n",
       "      <td>2019-11</td>\n",
       "      <td>중국</td>\n",
       "    </tr>\n",
       "    <tr>\n",
       "      <th>6</th>\n",
       "      <td>A01</td>\n",
       "      <td>남성</td>\n",
       "      <td>92556</td>\n",
       "      <td>2019-12</td>\n",
       "      <td>일본</td>\n",
       "    </tr>\n",
       "    <tr>\n",
       "      <th>7</th>\n",
       "      <td>A01</td>\n",
       "      <td>여성</td>\n",
       "      <td>163737</td>\n",
       "      <td>2019-12</td>\n",
       "      <td>일본</td>\n",
       "    </tr>\n",
       "    <tr>\n",
       "      <th>8</th>\n",
       "      <td>A18</td>\n",
       "      <td>남성</td>\n",
       "      <td>155540</td>\n",
       "      <td>2019-12</td>\n",
       "      <td>중국</td>\n",
       "    </tr>\n",
       "    <tr>\n",
       "      <th>9</th>\n",
       "      <td>A18</td>\n",
       "      <td>여성</td>\n",
       "      <td>249023</td>\n",
       "      <td>2019-12</td>\n",
       "      <td>중국</td>\n",
       "    </tr>\n",
       "  </tbody>\n",
       "</table>\n",
       "</div>"
      ],
      "text/plain": [
       "  국적코드  성별    입국객수     기준년월  국적명\n",
       "0  A01  남성  106320  2019-11   일본\n",
       "1  A01  여성  191436  2019-11   일본\n",
       "2  A31  남성     319  2019-11  NaN\n",
       "3  A31  여성      42  2019-11  NaN\n",
       "4  A18  남성  158912  2019-11   중국\n",
       "5  A18  여성  232943  2019-11   중국\n",
       "6  A01  남성   92556  2019-12   일본\n",
       "7  A01  여성  163737  2019-12   일본\n",
       "8  A18  남성  155540  2019-12   중국\n",
       "9  A18  여성  249023  2019-12   중국"
      ]
     },
     "execution_count": 37,
     "metadata": {},
     "output_type": "execute_result"
    }
   ],
   "source": [
    "#데이터 저장(Excel)\n",
    "sample"
   ]
  },
  {
   "cell_type": "code",
   "execution_count": 23,
   "metadata": {},
   "outputs": [],
   "source": [
    "#to_excel()을 사용한다.\n",
    "sample.to_excel(\"c:\\\\work\\\\data\\\\sample.xlsx\")\n"
   ]
  },
  {
   "cell_type": "code",
   "execution_count": 24,
   "metadata": {},
   "outputs": [],
   "source": [
    "#to_excel()을 사용한다.\n",
    "#저장할 때 index번호를 제외하고 저장한다면 \n",
    "sample.to_excel(\"c:\\\\work\\\\data\\\\sample.xlsx\", index = False) \n",
    "\n"
   ]
  },
  {
   "cell_type": "code",
   "execution_count": 26,
   "metadata": {},
   "outputs": [
    {
     "data": {
      "text/html": [
       "<div>\n",
       "<style scoped>\n",
       "    .dataframe tbody tr th:only-of-type {\n",
       "        vertical-align: middle;\n",
       "    }\n",
       "\n",
       "    .dataframe tbody tr th {\n",
       "        vertical-align: top;\n",
       "    }\n",
       "\n",
       "    .dataframe thead th {\n",
       "        text-align: right;\n",
       "    }\n",
       "</style>\n",
       "<table border=\"1\" class=\"dataframe\">\n",
       "  <thead>\n",
       "    <tr style=\"text-align: right;\">\n",
       "      <th>기준년월</th>\n",
       "      <th>2019-11</th>\n",
       "      <th>2019-12</th>\n",
       "    </tr>\n",
       "    <tr>\n",
       "      <th>국적명</th>\n",
       "      <th></th>\n",
       "      <th></th>\n",
       "    </tr>\n",
       "  </thead>\n",
       "  <tbody>\n",
       "    <tr>\n",
       "      <th>일본</th>\n",
       "      <td>297756</td>\n",
       "      <td>256293</td>\n",
       "    </tr>\n",
       "    <tr>\n",
       "      <th>중국</th>\n",
       "      <td>391855</td>\n",
       "      <td>404563</td>\n",
       "    </tr>\n",
       "  </tbody>\n",
       "</table>\n",
       "</div>"
      ],
      "text/plain": [
       "기준년월  2019-11  2019-12\n",
       "국적명                   \n",
       "일본     297756   256293\n",
       "중국     391855   404563"
      ]
     },
     "execution_count": 26,
     "metadata": {},
     "output_type": "execute_result"
    }
   ],
   "source": [
    "#데이터 집계(피벗)\n",
    "#values = '입국객수' 피벗테이블 내부에 들어갈 값은 입국객수로 한다. \n",
    "#index = '국적명' 피벗테이블 로우에 국적명을 배치한다. \n",
    "#columns = '기준년월' 피벗테이블 컬럼에 기준년월을 배치한다. \n",
    "#aggfunc = 'mean' 입국객수를 국정명과 기준년월 기준으로 평균을 계산한다. \n",
    "sample_pivot = sample.pivot_table(values = '입국객수',\n",
    "        index = '국적명',\n",
    "        columns = '기준년월',\n",
    "        aggfunc = 'sum')\n",
    "sample_pivot"
   ]
  },
  {
   "cell_type": "code",
   "execution_count": 27,
   "metadata": {},
   "outputs": [
    {
     "data": {
      "text/html": [
       "<div>\n",
       "<style scoped>\n",
       "    .dataframe tbody tr th:only-of-type {\n",
       "        vertical-align: middle;\n",
       "    }\n",
       "\n",
       "    .dataframe tbody tr th {\n",
       "        vertical-align: top;\n",
       "    }\n",
       "\n",
       "    .dataframe thead th {\n",
       "        text-align: right;\n",
       "    }\n",
       "</style>\n",
       "<table border=\"1\" class=\"dataframe\">\n",
       "  <thead>\n",
       "    <tr style=\"text-align: right;\">\n",
       "      <th></th>\n",
       "      <th>입국객수</th>\n",
       "    </tr>\n",
       "    <tr>\n",
       "      <th>국적명</th>\n",
       "      <th></th>\n",
       "    </tr>\n",
       "  </thead>\n",
       "  <tbody>\n",
       "    <tr>\n",
       "      <th>일본</th>\n",
       "      <td>191436</td>\n",
       "    </tr>\n",
       "    <tr>\n",
       "      <th>중국</th>\n",
       "      <td>249023</td>\n",
       "    </tr>\n",
       "  </tbody>\n",
       "</table>\n",
       "</div>"
      ],
      "text/plain": [
       "       입국객수\n",
       "국적명        \n",
       "일본   191436\n",
       "중국   249023"
      ]
     },
     "execution_count": 27,
     "metadata": {},
     "output_type": "execute_result"
    }
   ],
   "source": [
    "#국적에 따른 최대 입국객수를 알아본다.\n",
    "sample_pivot_2 = sample.pivot_table(values = '입국객수',\n",
    "        index = '국적명',\n",
    "        aggfunc = 'max')\n",
    "sample_pivot_2"
   ]
  },
  {
   "cell_type": "code",
   "execution_count": 28,
   "metadata": {},
   "outputs": [],
   "source": [
    "from selenium import webdriver\n",
    "from selenium.webdriver.chrome.service import Service\n",
    "from webdriver_manager.chrome import ChromeDriverManager\n",
    "from selenium.webdriver.common.by import By\n",
    "\n",
    "def set_chrome_driver():\n",
    "    chrome_options = webdriver.ChromeOptions()\n",
    "    driver = webdriver.Chrome(service=Service(ChromeDriverManager().install()), options=chrome_options)\n",
    "    return driver\n",
    "\n",
    "#이 부분을 수정한다. \n",
    "driver = set_chrome_driver()"
   ]
  },
  {
   "cell_type": "code",
   "execution_count": 29,
   "metadata": {},
   "outputs": [],
   "source": [
    "url = 'https://www.naver.com'\n",
    "driver.get(url)"
   ]
  },
  {
   "cell_type": "code",
   "execution_count": 30,
   "metadata": {},
   "outputs": [],
   "source": [
    "html = driver.page_source "
   ]
  },
  {
   "cell_type": "code",
   "execution_count": 31,
   "metadata": {},
   "outputs": [],
   "source": [
    "html = '''\n",
    "<html>\n",
    "    <head>\n",
    "    </head>\n",
    "    <body>\n",
    "        <h1> 우리동네시장</h1>\n",
    "            <div class = 'sale'>\n",
    "                <p id='fruits1' class='fruits'>\n",
    "                    <span class = 'name'> 바나나 </span>\n",
    "                    <span class = 'price'> 3000원 </span>\n",
    "                    <span class = 'inventory'> 500개 </span>\n",
    "                    <span class = 'store'> 가나다상회 </span>\n",
    "                    <a href = 'http://bit.ly/forPlaywithData' > 홈페이지 </a>\n",
    "                </p>\n",
    "            </div>\n",
    "            <div class = 'prepare'>\n",
    "                <p id='fruits2' class='fruits'>\n",
    "                    <span class ='name'> 파인애플 </span>\n",
    "                </p>\n",
    "            </div>\n",
    "    </body>\n",
    "</html>\n",
    "'''\n",
    "\n",
    "from bs4 import BeautifulSoup \n",
    "\n",
    "soup = BeautifulSoup(html, 'html.parser') "
   ]
  },
  {
   "cell_type": "code",
   "execution_count": 32,
   "metadata": {},
   "outputs": [
    {
     "name": "stdout",
     "output_type": "stream",
     "text": [
      "[<span class=\"name\"> 바나나 </span>, <span class=\"price\"> 3000원 </span>, <span class=\"inventory\"> 500개 </span>, <span class=\"store\"> 가나다상회 </span>, <span class=\"name\"> 파인애플 </span>]\n"
     ]
    }
   ],
   "source": [
    "#태그명으로 찾기\n",
    "tags_span = soup.select('span')\n",
    "tags_p = soup.select('p')\n",
    "\n",
    "print(tags_span)"
   ]
  },
  {
   "cell_type": "code",
   "execution_count": 33,
   "metadata": {},
   "outputs": [
    {
     "data": {
      "text/plain": [
       "[<span class=\"price\"> 3000원 </span>]"
      ]
     },
     "execution_count": 33,
     "metadata": {},
     "output_type": "execute_result"
    }
   ],
   "source": [
    "#id와 class로 찾기\n",
    "# #뒤에 id를 입력해서 찾거나 .뒤에 class를 넣는 방법이 있다. \n",
    "ids_fruits1 = soup.select('#fruits1')\n",
    "class_price = soup.select('.price')\n",
    "#태그가 span이면서 class명이 price인 것을 모두 찾는다. \n",
    "tags_span_class_price = soup.select('span.price')\n",
    "tags_span_class_price"
   ]
  },
  {
   "cell_type": "code",
   "execution_count": 28,
   "metadata": {},
   "outputs": [
    {
     "data": {
      "text/plain": [
       "[<span class=\"name\"> 바나나 </span>, <span class=\"name\"> 파인애플 </span>]"
      ]
     },
     "execution_count": 28,
     "metadata": {},
     "output_type": "execute_result"
    }
   ],
   "source": [
    "#상위 구조 활용\n",
    "#정보가 담긴 태그의 속성만으로는 찾기가 어려울 경우 부모 태그 아래에 있는지 등의 정보를 추가해서 찾을 수 있다.\n",
    "#한단계 아래를 의미할 때는 '>'기호를 사용한다. \n",
    "#상위 태그는 부모태그, 하위 태그는 자식 태그라고 부른다. \n",
    "tags_name = soup.select('span.name')\n",
    "tags_name "
   ]
  },
  {
   "cell_type": "code",
   "execution_count": 34,
   "metadata": {},
   "outputs": [
    {
     "data": {
      "text/plain": [
       "[<span class=\"name\"> 바나나 </span>]"
      ]
     },
     "execution_count": 34,
     "metadata": {},
     "output_type": "execute_result"
    }
   ],
   "source": [
    "#이때 파인애플은 제외하고 바나나만 찾기 위해 바나나가 속한 부모 태그 정보를 추가한다. \n",
    "#부모 태그를 추가하면 바나나만 출력된다.\n",
    "tags_banana1 = soup.select('#fruits1 > span.name')\n",
    "tags_banana1"
   ]
  },
  {
   "cell_type": "code",
   "execution_count": 35,
   "metadata": {},
   "outputs": [
    {
     "name": "stdout",
     "output_type": "stream",
     "text": [
      "[<span class=\"name\"> 바나나 </span>]\n",
      "[<span class=\"name\"> 바나나 </span>]\n"
     ]
    }
   ],
   "source": [
    "#태그 위치로 위치 찾기2 \n",
    "#결과는 동일하지만 첫번째 코드는 상위태그1(div.sale)바로 아래에 있는 상위 태그2(#fruits1)을 찾고,\n",
    "#상위태그2(#fruits1) 바로 아래에 있는 태그(span.name)을 모두 찾았다. \n",
    "#두번째 코드는 상위태그(div.sale) 바로 아래에 있는 태그뿐 아니라 몇 단계 아래의 태그 중에서 태그 정보(span.name)\n",
    "#을 모두 찾았다. \n",
    "tags_banana2 = soup.select('div.sale > #fruits1 > span.name')\n",
    "tags_banana3 = soup.select('div.sale span.name')\n",
    "print(tags_banana2)\n",
    "print(tags_banana3)\n"
   ]
  },
  {
   "cell_type": "code",
   "execution_count": 36,
   "metadata": {},
   "outputs": [
    {
     "name": "stdout",
     "output_type": "stream",
     "text": [
      "2\n"
     ]
    },
    {
     "data": {
      "text/plain": [
       "<span class=\"name\"> 바나나 </span>"
      ]
     },
     "execution_count": 36,
     "metadata": {},
     "output_type": "execute_result"
    }
   ],
   "source": [
    "#태그 그룹에서 하나의 태그만 선택\n",
    "tags = soup.select('span.name')\n",
    "print( len(tags) )\n",
    "tag_1 = tags[0]\n",
    "tag_1"
   ]
  },
  {
   "cell_type": "code",
   "execution_count": 37,
   "metadata": {},
   "outputs": [
    {
     "name": "stdout",
     "output_type": "stream",
     "text": [
      "<span class=\"name\"> 바나나 </span>\n",
      "<span class=\"name\"> 파인애플 </span>\n"
     ]
    }
   ],
   "source": [
    "tags = soup.select('span.name')\n",
    "for tag in tags:\n",
    "    print(tag)"
   ]
  },
  {
   "cell_type": "code",
   "execution_count": 38,
   "metadata": {},
   "outputs": [
    {
     "name": "stdout",
     "output_type": "stream",
     "text": [
      " 홈페이지 \n",
      "http://bit.ly/forPlaywithData\n"
     ]
    }
   ],
   "source": [
    "#선택한 태그에서 텍스트, 속성값 가져오기\n",
    "tags = soup.select('a')\n",
    "tag = tags[0]\n",
    "#태그 내부에 문자열만 리턴 \n",
    "content = tag.text \n",
    "print( content  )\n",
    "link = tag['href']\n",
    "print( link )"
   ]
  },
  {
   "cell_type": "code",
   "execution_count": 39,
   "metadata": {},
   "outputs": [],
   "source": [
    "#멜론 노래 순위 정보 크롤링\n",
    "from selenium import webdriver\n",
    "from selenium.webdriver.chrome.service import Service\n",
    "from webdriver_manager.chrome import ChromeDriverManager\n",
    "from selenium.webdriver.common.by import By\n",
    "\n",
    "def set_chrome_driver():\n",
    "    chrome_options = webdriver.ChromeOptions()\n",
    "    driver = webdriver.Chrome(service=Service(ChromeDriverManager().install()), options=chrome_options)\n",
    "    return driver\n",
    "\n",
    "#이 부분을 수정한다. \n",
    "driver = set_chrome_driver()\n",
    "\n",
    "url = 'https://www.melon.com/chart/index.htm'\n",
    "driver.get(url)\n"
   ]
  },
  {
   "cell_type": "code",
   "execution_count": 40,
   "metadata": {},
   "outputs": [
    {
     "name": "stdout",
     "output_type": "stream",
     "text": [
      "100\n",
      "<tr class=\"lst50\" data-song-no=\"35730562\" id=\"lst50\">\n",
      "<td><div class=\"wrap t_right\"><input class=\"input_check\" name=\"input_check\" title=\"Nxde 곡 선택\" type=\"checkbox\" value=\"35730562\"/></div></td>\n",
      "<td><div class=\"wrap t_center\"><span class=\"rank\">1</span><span class=\"none\">위</span></div></td>\n",
      "<!-- 차트순위 추가 -->\n",
      "<td><div class=\"wrap\">\n",
      "<span class=\"rank_wrap\" title=\"순위 동일\">\n",
      "<span class=\"bullet_icons rank_static\"><span class=\"none\">순위 동일</span></span>\n",
      "<span class=\"none\">0</span>\n",
      "</span>\n",
      "</div></td>\n",
      "<td><div class=\"wrap\">\n",
      "<a class=\"image_typeAll\" href=\"javascript:melon.link.goAlbumDetail('11078852');\" title=\"I love\">\n",
      "<img alt=\"I love - 페이지 이동\" height=\"60\" onerror=\"WEBPOCIMG.defaultAlbumImg(this);\" src=\"https://cdnimg.melon.co.kr/cm2/album/images/110/78/852/11078852_20221017102947_500.jpg/melon/resize/120/quality/80/optimize\" width=\"60\"/>\n",
      "<span class=\"bg_album_frame\"></span>\n",
      "</a>\n",
      "</div></td>\n",
      "<td><div class=\"wrap\">\n",
      "<a class=\"btn button_icons type03 song_info\" href=\"javascript:melon.link.goSongDetail('35730562');\" title=\"Nxde 곡정보\"><span class=\"none\">곡정보</span></a>\n",
      "</div></td>\n",
      "<td><div class=\"wrap\">\n",
      "<div class=\"wrap_song_info\">\n",
      "<div class=\"ellipsis rank01\"><span>\n",
      "<a href=\"javascript:melon.play.playSong('1000002721',35730562);\" title=\"Nxde 재생\">Nxde</a>\n",
      "</span></div><br/>\n",
      "<div class=\"ellipsis rank02\">\n",
      "<a href=\"javascript:melon.link.goArtistDetail('2137482');\" title=\"(여자)아이들 - 페이지 이동\">(여자)아이들</a><span class=\"checkEllipsis\" style=\"display: none;\"><a href=\"javascript:melon.link.goArtistDetail('2137482');\" title=\"(여자)아이들 - 페이지 이동\">(여자)아이들</a></span>\n",
      "</div>\n",
      "</div>\n",
      "</div></td>\n",
      "<td><div class=\"wrap\">\n",
      "<div class=\"wrap_song_info\">\n",
      "<div class=\"ellipsis rank03\">\n",
      "<a href=\"javascript:melon.link.goAlbumDetail('11078852');\" title=\"I love - 페이지 이동\">I love</a>\n",
      "</div>\n",
      "</div>\n",
      "</div></td>\n",
      "<td><div class=\"wrap\">\n",
      "<button class=\"button_etc like\" data-song-menuid=\"1000002721\" data-song-no=\"35730562\" title=\"Nxde 좋아요\" type=\"button\"><span class=\"odd_span\">좋아요</span>\n",
      "<span class=\"cnt\">\n",
      "<span class=\"none\">총건수</span>\n",
      "88,838</span></button>\n",
      "</div></td>\n",
      "<td><div class=\"wrap t_center\">\n",
      "<button class=\"button_icons play\" onclick=\"melon.play.playSong('1000002721',35730562);\" title=\"듣기\" type=\"button\"><span class=\"none\">듣기</span></button>\n",
      "</div></td>\n",
      "<td><div class=\"wrap t_center\">\n",
      "<button class=\"button_icons scrap\" onclick=\"melon.play.addPlayList('35730562');\" title=\"담기\" type=\"button\"><span class=\"none\">담기</span></button>\n",
      "</div></td>\n",
      "<td><div class=\"wrap t_center\">\n",
      "<button class=\"button_icons download\" onclick=\"melon.buy.goBuyProduct('frm', '35730562', '3C0001', '','0', '1000002721');\" title=\"다운로드\" type=\"button\"><span class=\"none\">다운로드</span></button>\n",
      "</div></td>\n",
      "<td><div class=\"wrap t_center\">\n",
      "<button class=\"button_icons video\" onclick=\"melon.link.goMvDetail('1000002721', '35730562','song');\" title=\"뮤직비디오\" type=\"button\"><span class=\"none\">뮤직비디오</span></button>\n",
      "</div></td>\n",
      "</tr>\n"
     ]
    }
   ],
   "source": [
    "#첫번째 줄에서 table > tbody > tr을 통해 곡 정보가 포함된 tr태그를 모두 찾았다. \n",
    "from bs4 import BeautifulSoup\n",
    "html = driver.page_source\n",
    "soup = BeautifulSoup(html, 'html.parser')\n",
    "songs = soup.select('table > tbody > tr')\n",
    "print(len(songs))\n",
    "print(songs[0])"
   ]
  },
  {
   "cell_type": "code",
   "execution_count": 41,
   "metadata": {},
   "outputs": [
    {
     "name": "stdout",
     "output_type": "stream",
     "text": [
      "[<a class=\"image_typeAll\" href=\"javascript:melon.link.goAlbumDetail('11078852');\" title=\"I love\">\n",
      "<img alt=\"I love - 페이지 이동\" height=\"60\" onerror=\"WEBPOCIMG.defaultAlbumImg(this);\" src=\"https://cdnimg.melon.co.kr/cm2/album/images/110/78/852/11078852_20221017102947_500.jpg/melon/resize/120/quality/80/optimize\" width=\"60\"/>\n",
      "<span class=\"bg_album_frame\"></span>\n",
      "</a>, <a class=\"btn button_icons type03 song_info\" href=\"javascript:melon.link.goSongDetail('35730562');\" title=\"Nxde 곡정보\"><span class=\"none\">곡정보</span></a>, <a href=\"javascript:melon.play.playSong('1000002721',35730562);\" title=\"Nxde 재생\">Nxde</a>, <a href=\"javascript:melon.link.goArtistDetail('2137482');\" title=\"(여자)아이들 - 페이지 이동\">(여자)아이들</a>, <a href=\"javascript:melon.link.goArtistDetail('2137482');\" title=\"(여자)아이들 - 페이지 이동\">(여자)아이들</a>, <a href=\"javascript:melon.link.goAlbumDetail('11078852');\" title=\"I love - 페이지 이동\">I love</a>]\n"
     ]
    },
    {
     "data": {
      "text/plain": [
       "6"
      ]
     },
     "execution_count": 41,
     "metadata": {},
     "output_type": "execute_result"
    }
   ],
   "source": [
    "#곡 제목찾기\n",
    "#조건에 만족하는 곡의 갯수가 6개\n",
    "song = songs[0]\n",
    "title = song.select('a')\n",
    "print(title)\n",
    "len(title)\n"
   ]
  },
  {
   "cell_type": "code",
   "execution_count": 42,
   "metadata": {},
   "outputs": [
    {
     "data": {
      "text/plain": [
       "2"
      ]
     },
     "execution_count": 42,
     "metadata": {},
     "output_type": "execute_result"
    }
   ],
   "source": [
    "#곡 제목찾기2\n",
    "title = song.select('span > a')\n",
    "len(title)"
   ]
  },
  {
   "cell_type": "code",
   "execution_count": 43,
   "metadata": {},
   "outputs": [
    {
     "name": "stdout",
     "output_type": "stream",
     "text": [
      "[<a href=\"javascript:melon.play.playSong('1000002721',35730562);\" title=\"Nxde 재생\">Nxde</a>]\n"
     ]
    },
    {
     "data": {
      "text/plain": [
       "1"
      ]
     },
     "execution_count": 43,
     "metadata": {},
     "output_type": "execute_result"
    }
   ],
   "source": [
    "#곡 제목찾기3\n",
    "title = song.select('div.ellipsis.rank01 > span > a')\n",
    "print(title)\n",
    "len(title)"
   ]
  },
  {
   "cell_type": "code",
   "execution_count": 40,
   "metadata": {},
   "outputs": [
    {
     "data": {
      "text/plain": [
       "'Nxde'"
      ]
     },
     "execution_count": 40,
     "metadata": {},
     "output_type": "execute_result"
    }
   ],
   "source": [
    "#곡 제목 가져오기\n",
    "title = song.select('div.ellipsis.rank01 > span > a')[0].text \n",
    "title"
   ]
  },
  {
   "cell_type": "code",
   "execution_count": 44,
   "metadata": {},
   "outputs": [
    {
     "data": {
      "text/plain": [
       "'(여자)아이들'"
      ]
     },
     "execution_count": 44,
     "metadata": {},
     "output_type": "execute_result"
    }
   ],
   "source": [
    "#가수 정보 가져오기\n",
    "singer = song.select('div.ellipsis.rank02 > a')[0].text \n",
    "singer"
   ]
  },
  {
   "cell_type": "code",
   "execution_count": 45,
   "metadata": {},
   "outputs": [
    {
     "name": "stdout",
     "output_type": "stream",
     "text": [
      "Nxde|(여자)아이들\n",
      "ANTIFRAGILE|LE SSERAFIM (르세라핌)\n",
      "새삥 (Prod. ZICO) (Feat. 호미들)|지코 (ZICO)\n",
      "After LIKE|IVE (아이브)\n",
      "Hype boy|NewJeans\n",
      "사건의 지평선|윤하 (YOUNHA)\n",
      "Rush Hour (Feat. j-hope of BTS)|Crush\n",
      "Attention|NewJeans\n",
      "Shut Down|BLACKPINK\n",
      "Monologue|테이\n",
      "Pink Venom|BLACKPINK\n",
      "LOVE DIVE|IVE (아이브)\n",
      "자격지심 (Feat. ZICO)|BE'O (비오)\n",
      "사랑은 늘 도망가|임영웅\n",
      "딱 10CM만|10CM\n",
      "우리들의 블루스|임영웅\n",
      "우린 그렇게 사랑해서|강민경 (다비치)\n",
      "그때 그 순간 그대로 (그그그)|WSG워너비 (가야G)\n",
      "다시 만날 수 있을까|임영웅\n",
      "그라데이션|10CM\n",
      "TOMBOY|(여자)아이들\n",
      "Cookie|NewJeans\n",
      "무지개|임영웅\n",
      "사랑인가 봐|멜로망스\n",
      "이제 나만 믿어요|임영웅\n",
      "해요 (2022)|#안녕\n",
      "아버지|임영웅\n",
      "보고싶었어|WSG워너비 (4FIRE)\n",
      "내가 아니라도|주호\n",
      "정이라고 하자 (Feat. 10CM)|BIG Naughty (서동현)\n",
      "A bientot|임영웅\n",
      "FOREVER 1|소녀시대 (GIRLS' GENERATION)\n",
      "손이 참 곱던 그대|임영웅\n",
      "FEARLESS|LE SSERAFIM (르세라핌)\n",
      "인생찬가|임영웅\n",
      "사랑해 진짜|임영웅\n",
      "나의 X에게|경서\n",
      "LAW (Prod. Czaer)|윤미래\n",
      "연애편지|임영웅\n",
      "ELEVEN|IVE (아이브)\n",
      "That That (prod. & feat. SUGA of BTS)|싸이 (PSY)\n",
      "너의 모든 순간|성시경\n",
      "That's Hilarious|Charlie Puth\n",
      "사랑역|임영웅\n",
      "보금자리|임영웅\n",
      "사랑해요 그대를|임영웅\n",
      "취중고백|김민석 (멜로망스)\n",
      "내 기쁨은 너가 벤틀리를 끄는 거야|김승민\n",
      "SNEAKERS|ITZY (있지)\n",
      "다정히 내 이름을 부르면|경서예지\n",
      "LOVE me|BE'O (비오)\n",
      "I Don't Think That I Like Her|Charlie Puth\n",
      "Dynamite|방탄소년단\n",
      "모든 날, 모든 순간 (Every day, Every Moment)|폴킴\n",
      "도깨비불 (Illusion)|aespa\n",
      "POP!|나연 (TWICE)\n",
      "Love story|볼빨간사춘기\n",
      "새벽에 걸려온 너의 전화는|한동근\n",
      "Left and Right (Feat. Jung Kook of BTS)|Charlie Puth\n",
      "STAY|The Kid LAROI\n",
      "봄여름가을겨울 (Still Life)|BIGBANG (빅뱅)\n",
      "Butter|방탄소년단\n",
      "밤하늘의 별을(2020)|경서\n",
      "주저하는 연인들을 위해|잔나비\n",
      "사랑한다고 말해줘|탑현\n",
      "스티커 사진|21학번\n",
      "그래서 그대는|이영현\n",
      "봄날|방탄소년단\n",
      "신호등|이무진\n",
      "통화연결음|보라미유\n",
      "Yet To Come|방탄소년단\n",
      "strawberry moon|아이유\n",
      "Feel My Rhythm|Red Velvet (레드벨벳)\n",
      "DICE|NMIXX\n",
      "Permission to Dance|방탄소년단\n",
      "INVU|태연 (TAEYEON)\n",
      "MY BAG|(여자)아이들\n",
      "내 손을 잡아|아이유\n",
      "못해|김나영\n",
      "드라마|아이유\n",
      "Girls|aespa\n",
      "Next Level|aespa\n",
      "Off My Face|Justin Bieber\n",
      "바보에게 바보가 (웹툰 '연애의 발견' X 이석훈)|이석훈\n",
      "떠나보낼 준비해 둘걸 그랬어|임한별\n",
      "그중에 그대를 만나|김호중\n",
      "회전목마 (Feat. Zion.T, 원슈타인) (Prod. Slom)|sokodomo\n",
      "늦은 밤 헤어지긴 너무 아쉬워|케이시 (Kassy)\n",
      "Talk that Talk|TWICE (트와이스)\n",
      "GANADARA (Feat. 아이유)|박재범\n",
      "I Ain't Worried|OneRepublic\n",
      "너를 생각해|주시크 (Joosiq)\n",
      "나의 목소리로|김호중\n",
      "듣고 싶을까|MSG워너비(M.O.M)\n",
      "Weekend|태연 (TAEYEON)\n",
      "아무래도 난|주시크 (Joosiq)\n",
      "Celebrity|아이유\n",
      "SMILEY (Feat. BIBI)|YENA (최예나)\n",
      "인생은 뷰티풀|김호중\n",
      "OHAYO MY NIGHT|디핵 (D-Hack)\n"
     ]
    }
   ],
   "source": [
    "#이번에는 100곡의 노래순위 정보 가져오기\n",
    "for song in songs:\n",
    "    title = song.select('div.ellipsis.rank01 > span >a')[0].text \n",
    "    singer = song.select('div.ellipsis.rank02 > a')[0].text \n",
    "    print(title, singer, sep = \"|\")"
   ]
  },
  {
   "cell_type": "code",
   "execution_count": 42,
   "metadata": {},
   "outputs": [
    {
     "ename": "AttributeError",
     "evalue": "'WebDriver' object has no attribute 'find_elements_by_css_selector'",
     "output_type": "error",
     "traceback": [
      "\u001b[1;31m---------------------------------------------------------------------------\u001b[0m",
      "\u001b[1;31mAttributeError\u001b[0m                            Traceback (most recent call last)",
      "Cell \u001b[1;32mIn [42], line 9\u001b[0m\n\u001b[0;32m      6\u001b[0m url \u001b[39m=\u001b[39m \u001b[39m'\u001b[39m\u001b[39mhttp://www.melon.com/chart/index.htm\u001b[39m\u001b[39m'\u001b[39m\n\u001b[0;32m      7\u001b[0m driver\u001b[39m.\u001b[39mget(url)\n\u001b[1;32m----> 9\u001b[0m songs \u001b[39m=\u001b[39m driver\u001b[39m.\u001b[39;49mfind_elements_by_css_selector(\u001b[39m'\u001b[39m\u001b[39mtable > tbody > tr\u001b[39m\u001b[39m'\u001b[39m)\n\u001b[0;32m     10\u001b[0m \u001b[39mfor\u001b[39;00m song \u001b[39min\u001b[39;00m songs: \n\u001b[0;32m     11\u001b[0m     title \u001b[39m=\u001b[39m song\u001b[39m.\u001b[39mfind_elements_by_css_selector(\u001b[39m'\u001b[39m\u001b[39mdiv.ellipsis.rank01 > span > a\u001b[39m\u001b[39m'\u001b[39m)[\u001b[39m0\u001b[39m]\u001b[39m.\u001b[39mtext \n",
      "\u001b[1;31mAttributeError\u001b[0m: 'WebDriver' object has no attribute 'find_elements_by_css_selector'"
     ]
    }
   ],
   "source": [
    "# #selenium을 활용한 크롤링\n",
    "# #selenium을 사용하면 웹 페이지에 계속 접속한 상태로 정보를 가져온다는 특징이 있다. \n",
    "# #이 부분을 수정한다. \n",
    "# driver = set_chrome_driver()\n",
    "\n",
    "# url = 'http://www.melon.com/chart/index.htm'\n",
    "# driver.get(url)\n",
    "\n",
    "# songs = driver.find_elements_by_css_selector('table > tbody > tr')\n",
    "# for song in songs: \n",
    "#     title = song.find_elements_by_css_selector('div.ellipsis.rank01 > span > a')[0].text \n",
    "#     singer = song.find_elements_by_css_selector('div.ellipsis.rank02 > a')[0].text \n",
    "#     print(title, singer, sep=\"||\")"
   ]
  },
  {
   "cell_type": "code",
   "execution_count": 46,
   "metadata": {},
   "outputs": [],
   "source": [
    "#멜론 크롤링 결과를 엑셀로 저장하기 \n",
    "\n",
    "url = 'http://www.melon.com/chart/index.htm'\n",
    "driver.get(url)\n",
    "\n",
    "html = driver.page_source \n",
    "soup = BeautifulSoup(html, 'html.parser')"
   ]
  },
  {
   "cell_type": "code",
   "execution_count": 47,
   "metadata": {},
   "outputs": [],
   "source": [
    "#반복문을 이용해 곡과 가수명을 song_data에 저장하기\n",
    "song_data = []\n",
    "rank = 1 \n",
    "songs = soup.select('table > tbody > tr')\n",
    "for song in songs:\n",
    "    title = song.select('div.rank01 > span > a')[0].text \n",
    "    singer = song.select('div.rank02 > a')[0].text \n",
    "    song_data.append(['Melon',rank,title,singer])\n",
    "    rank = rank + 1 \n",
    "\n"
   ]
  },
  {
   "cell_type": "code",
   "execution_count": 48,
   "metadata": {},
   "outputs": [
    {
     "data": {
      "text/html": [
       "<div>\n",
       "<style scoped>\n",
       "    .dataframe tbody tr th:only-of-type {\n",
       "        vertical-align: middle;\n",
       "    }\n",
       "\n",
       "    .dataframe tbody tr th {\n",
       "        vertical-align: top;\n",
       "    }\n",
       "\n",
       "    .dataframe thead th {\n",
       "        text-align: right;\n",
       "    }\n",
       "</style>\n",
       "<table border=\"1\" class=\"dataframe\">\n",
       "  <thead>\n",
       "    <tr style=\"text-align: right;\">\n",
       "      <th></th>\n",
       "      <th>서비스</th>\n",
       "      <th>순위</th>\n",
       "      <th>타이틀</th>\n",
       "      <th>가수</th>\n",
       "    </tr>\n",
       "  </thead>\n",
       "  <tbody>\n",
       "    <tr>\n",
       "      <th>0</th>\n",
       "      <td>Melon</td>\n",
       "      <td>1</td>\n",
       "      <td>Nxde</td>\n",
       "      <td>(여자)아이들</td>\n",
       "    </tr>\n",
       "    <tr>\n",
       "      <th>1</th>\n",
       "      <td>Melon</td>\n",
       "      <td>2</td>\n",
       "      <td>ANTIFRAGILE</td>\n",
       "      <td>LE SSERAFIM (르세라핌)</td>\n",
       "    </tr>\n",
       "    <tr>\n",
       "      <th>2</th>\n",
       "      <td>Melon</td>\n",
       "      <td>3</td>\n",
       "      <td>새삥 (Prod. ZICO) (Feat. 호미들)</td>\n",
       "      <td>지코 (ZICO)</td>\n",
       "    </tr>\n",
       "    <tr>\n",
       "      <th>3</th>\n",
       "      <td>Melon</td>\n",
       "      <td>4</td>\n",
       "      <td>After LIKE</td>\n",
       "      <td>IVE (아이브)</td>\n",
       "    </tr>\n",
       "    <tr>\n",
       "      <th>4</th>\n",
       "      <td>Melon</td>\n",
       "      <td>5</td>\n",
       "      <td>Hype boy</td>\n",
       "      <td>NewJeans</td>\n",
       "    </tr>\n",
       "  </tbody>\n",
       "</table>\n",
       "</div>"
      ],
      "text/plain": [
       "     서비스  순위                          타이틀                  가수\n",
       "0  Melon   1                         Nxde             (여자)아이들\n",
       "1  Melon   2                  ANTIFRAGILE  LE SSERAFIM (르세라핌)\n",
       "2  Melon   3  새삥 (Prod. ZICO) (Feat. 호미들)           지코 (ZICO)\n",
       "3  Melon   4                   After LIKE           IVE (아이브)\n",
       "4  Melon   5                     Hype boy            NewJeans"
      ]
     },
     "execution_count": 48,
     "metadata": {},
     "output_type": "execute_result"
    }
   ],
   "source": [
    "#이렇게 수집된 데이터를 데이터프레임으로 만든다.\n",
    "import pandas as pd \n",
    "columns = ['서비스','순위','타이틀','가수']\n",
    "pd_data = pd.DataFrame(song_data, columns=columns)\n",
    "pd_data.head()"
   ]
  },
  {
   "cell_type": "code",
   "execution_count": 49,
   "metadata": {},
   "outputs": [],
   "source": [
    "#크롤링 결과를 엑셀로 저장하기\n",
    "pd_data.to_excel('c:\\work\\melon.xlsx', index=False)"
   ]
  },
  {
   "cell_type": "code",
   "execution_count": 66,
   "metadata": {},
   "outputs": [],
   "source": [
    "#벅스 크롤링 결과를 엑셀에 저장하기\n",
    "\n",
    "url = 'https://music.bugs.co.kr/chart'\n",
    "driver.get(url)\n",
    "\n",
    "html = driver.page_source \n",
    "soup = BeautifulSoup(html, 'html.parser')"
   ]
  },
  {
   "cell_type": "code",
   "execution_count": 52,
   "metadata": {},
   "outputs": [
    {
     "name": "stdout",
     "output_type": "stream",
     "text": [
      "104\n"
     ]
    }
   ],
   "source": [
    "#tr태그로 곡 정보 찾기1\n",
    "songs = soup.select('tr')\n",
    "print(len(songs))"
   ]
  },
  {
   "cell_type": "code",
   "execution_count": 53,
   "metadata": {},
   "outputs": [
    {
     "name": "stdout",
     "output_type": "stream",
     "text": [
      "103\n"
     ]
    }
   ],
   "source": [
    "#tr태그로 곡 정보 찾기 2 \n",
    "songs = soup.select('tbody > tr')\n",
    "print(len(songs))"
   ]
  },
  {
   "cell_type": "code",
   "execution_count": 54,
   "metadata": {},
   "outputs": [
    {
     "name": "stdout",
     "output_type": "stream",
     "text": [
      "100\n"
     ]
    }
   ],
   "source": [
    "#이번에는 table태그에 있는 byChart라는 class이름을 지정해 출력해 본다. \n",
    "songs = soup.select('table.byChart > tbody > tr')\n",
    "print(len(songs))"
   ]
  },
  {
   "cell_type": "code",
   "execution_count": 55,
   "metadata": {},
   "outputs": [
    {
     "name": "stdout",
     "output_type": "stream",
     "text": [
      "<tr albumid=\"4080705\" artistid=\"20056456\" multiartist=\"N\" mvid=\"612174\" rowtype=\"track\" trackid=\"6179174\">\n",
      "<input name=\"_isStream\" type=\"hidden\" value=\"6179174\"/>\n",
      "<input name=\"_isDown\" type=\"hidden\" value=\"6179174\"/>\n",
      "<td class=\"check\"><input buyminquality=\"T\" disc_id=\"1\" name=\"check\" title=\"Nxde\" type=\"checkbox\" value=\"6179174\"/></td>\n",
      "<td>\n",
      "<div class=\"ranking\">\n",
      "<strong>1</strong>\n",
      "<p class=\"change up\"><span class=\"arrow\"></span> <em>1</em> <span>계단 상승</span></p>\n",
      "</div>\n",
      "</td>\n",
      "<td>\n",
      "<a class=\"thumbnail\" href=\"https://music.bugs.co.kr/album/4080705?wl_ref=list_tr_07_chart\" onclick=\"\n",
      "\">\n",
      "<span class=\"mask\"></span>\n",
      "<img alt=\"I love 대표이미지\" onerror=\"bugs.utils.imgError(this);\" src=\"https://image.bugsm.co.kr/album/images/50/40807/4080705.jpg?version=20221020022905.0\"/>\n",
      "</a>\n",
      "</td>\n",
      "<td>\n",
      "<a class=\"trackInfo\" href=\"https://music.bugs.co.kr/track/6179174?wl_ref=list_tr_08_chart\" onclick=\"\n",
      "\">곡정보</a>\n",
      "</td>\n",
      "<th scope=\"row\">\n",
      "<p adult_yn=\"N\" class=\"title\">\n",
      "<a adultcheckval=\"1\" aria-label=\"새창\" href=\"javascript:;\" onclick=\"bugs.wiselog.area('list_tr_09_chart');bugs.music.listen('6179174',true);\n",
      "\" title=\"Nxde\">Nxde</a>\n",
      "</p>\n",
      "</th>\n",
      "<td class=\"left\">\n",
      "<p class=\"artist\">\n",
      "<a href=\"https://music.bugs.co.kr/artist/20056456?wl_ref=list_tr_10_chart\" onclick=\"\n",
      "\" title=\"(여자)아이들\">(여자)아이들</a>\n",
      "</p>\n",
      "</td>\n",
      "<td class=\"left\">\n",
      "<a class=\"album\" href=\"https://music.bugs.co.kr/album/4080705?wl_ref=list_tr_11_chart\" onclick=\"\n",
      "\" title=\"I love\">I love</a>\n",
      "</td>\n",
      "<td>\n",
      "<a adultcheckval=\"1\" aria-label=\"새창\" class=\"btn play\" href=\"javascript:;\" onclick=\"bugs.wiselog.area('list_tr_12_chart');bugs.music.listen('6179174',true);\n",
      "\">듣기</a>\n",
      "</td>\n",
      "<td>\n",
      "<a adultcheckval=\"1\" aria-label=\"새창\" class=\"btn addPlaylist\" href=\"javascript:;\" onclick=\"bugs.wiselog.area('list_tr_13_chart');bugs.music.listen('6179174');\n",
      "\">재생목록에 추가</a>\n",
      "</td>\n",
      "<td>\n",
      "<a class=\"btn addAlbum\" href=\"javascript:;\" onclick=\"bugs.wiselog.area('list_tr_14_chart');bugs.music.addTrackToMyAlbum(this,'6179174');\n",
      "\" track_title=\"Nxde\">내 앨범에 담기</a>\n",
      "</td>\n",
      "<td>\n",
      "<a adultcheckval=\"1\" aria-label=\"새창\" class=\"btn download flac\" href=\"javascript:;\" onclick=\"bugs.wiselog.area('list_tr_15_chart');bugs.layermenu.down(this,'6179174','true','true','44.1','false','', null );\n",
      "\"><em class=\"flac\">flac </em>다운로드</a>\n",
      "</td>\n",
      "<td>\n",
      "<a aria-label=\"새창\" class=\"btn viewMV\" href=\"javascript:;\" onclick=\"bugs.wiselog.area('list_tr_16_chart');\n",
      "bugs.layermenu.mv(this,6179174, 612174, 'Y', 'Y', 'Y', 'Y', 6179174, 'N','OVER_15', 'Y');\n",
      "\">영상 재생</a>\n",
      "</td>\n",
      "<td>\n",
      "<a artist_disp_nm=\"(여자)아이들\" artist_id=\"20056456\" class=\"btnActions\" href=\"javascript:;\" layer_type=\"CHART\" layerpositiontarget=\"td\" onclick=\"bugs.wiselog.area('list_tr_17_chart');\n",
      "bugs.layermenu.trackMoreAction(this,'6179174','0','4080705','bugs.music.listenRadioFromSeed(\\'6179174\\',\\'track\\');','N', 'Y', '_chart');\n",
      "\" track_title=\"Nxde\">기타 기능</a>\n",
      "</td>\n",
      "</tr>\n"
     ]
    }
   ],
   "source": [
    "print(songs[0])"
   ]
  },
  {
   "cell_type": "code",
   "execution_count": 56,
   "metadata": {},
   "outputs": [
    {
     "name": "stdout",
     "output_type": "stream",
     "text": [
      "[<a class=\"thumbnail\" href=\"https://music.bugs.co.kr/album/4080705?wl_ref=list_tr_07_chart\" onclick=\"\n",
      "\">\n",
      "<span class=\"mask\"></span>\n",
      "<img alt=\"I love 대표이미지\" onerror=\"bugs.utils.imgError(this);\" src=\"https://image.bugsm.co.kr/album/images/50/40807/4080705.jpg?version=20221020022905.0\"/>\n",
      "</a>, <a class=\"trackInfo\" href=\"https://music.bugs.co.kr/track/6179174?wl_ref=list_tr_08_chart\" onclick=\"\n",
      "\">곡정보</a>, <a adultcheckval=\"1\" aria-label=\"새창\" href=\"javascript:;\" onclick=\"bugs.wiselog.area('list_tr_09_chart');bugs.music.listen('6179174',true);\n",
      "\" title=\"Nxde\">Nxde</a>, <a href=\"https://music.bugs.co.kr/artist/20056456?wl_ref=list_tr_10_chart\" onclick=\"\n",
      "\" title=\"(여자)아이들\">(여자)아이들</a>, <a class=\"album\" href=\"https://music.bugs.co.kr/album/4080705?wl_ref=list_tr_11_chart\" onclick=\"\n",
      "\" title=\"I love\">I love</a>, <a adultcheckval=\"1\" aria-label=\"새창\" class=\"btn play\" href=\"javascript:;\" onclick=\"bugs.wiselog.area('list_tr_12_chart');bugs.music.listen('6179174',true);\n",
      "\">듣기</a>, <a adultcheckval=\"1\" aria-label=\"새창\" class=\"btn addPlaylist\" href=\"javascript:;\" onclick=\"bugs.wiselog.area('list_tr_13_chart');bugs.music.listen('6179174');\n",
      "\">재생목록에 추가</a>, <a class=\"btn addAlbum\" href=\"javascript:;\" onclick=\"bugs.wiselog.area('list_tr_14_chart');bugs.music.addTrackToMyAlbum(this,'6179174');\n",
      "\" track_title=\"Nxde\">내 앨범에 담기</a>, <a adultcheckval=\"1\" aria-label=\"새창\" class=\"btn download flac\" href=\"javascript:;\" onclick=\"bugs.wiselog.area('list_tr_15_chart');bugs.layermenu.down(this,'6179174','true','true','44.1','false','', null );\n",
      "\"><em class=\"flac\">flac </em>다운로드</a>, <a aria-label=\"새창\" class=\"btn viewMV\" href=\"javascript:;\" onclick=\"bugs.wiselog.area('list_tr_16_chart');\n",
      "bugs.layermenu.mv(this,6179174, 612174, 'Y', 'Y', 'Y', 'Y', 6179174, 'N','OVER_15', 'Y');\n",
      "\">영상 재생</a>, <a artist_disp_nm=\"(여자)아이들\" artist_id=\"20056456\" class=\"btnActions\" href=\"javascript:;\" layer_type=\"CHART\" layerpositiontarget=\"td\" onclick=\"bugs.wiselog.area('list_tr_17_chart');\n",
      "bugs.layermenu.trackMoreAction(this,'6179174','0','4080705','bugs.music.listenRadioFromSeed(\\'6179174\\',\\'track\\');','N', 'Y', '_chart');\n",
      "\" track_title=\"Nxde\">기타 기능</a>]\n"
     ]
    },
    {
     "data": {
      "text/plain": [
       "11"
      ]
     },
     "execution_count": 56,
     "metadata": {},
     "output_type": "execute_result"
    }
   ],
   "source": [
    "#한개의 곡 정보 지정하기\n",
    "song = songs[0]\n",
    "#벅스 사이트에서 곡 제목 찾기1\n",
    "title = song.select('a')\n",
    "print(title)\n",
    "len(title)"
   ]
  },
  {
   "cell_type": "code",
   "execution_count": 58,
   "metadata": {},
   "outputs": [
    {
     "data": {
      "text/plain": [
       "2"
      ]
     },
     "execution_count": 58,
     "metadata": {},
     "output_type": "execute_result"
    }
   ],
   "source": [
    "title = song.select('p > a')\n",
    "len(title)\n"
   ]
  },
  {
   "cell_type": "code",
   "execution_count": 59,
   "metadata": {},
   "outputs": [
    {
     "data": {
      "text/plain": [
       "1"
      ]
     },
     "execution_count": 59,
     "metadata": {},
     "output_type": "execute_result"
    }
   ],
   "source": [
    "#벅스 사이트에서 곡 제목 찾기3\n",
    "title = song.select('p.title > a')\n",
    "len(title)"
   ]
  },
  {
   "cell_type": "code",
   "execution_count": 60,
   "metadata": {},
   "outputs": [
    {
     "data": {
      "text/plain": [
       "'Nxde'"
      ]
     },
     "execution_count": 60,
     "metadata": {},
     "output_type": "execute_result"
    }
   ],
   "source": [
    "#벅스 사이트에서 곡 제목 출력하기\n",
    "title = song.select('p.title > a')[0].text \n",
    "title"
   ]
  },
  {
   "cell_type": "code",
   "execution_count": 61,
   "metadata": {},
   "outputs": [
    {
     "data": {
      "text/plain": [
       "'(여자)아이들'"
      ]
     },
     "execution_count": 61,
     "metadata": {},
     "output_type": "execute_result"
    }
   ],
   "source": [
    "#가수 이름 출력하기\n",
    "singer = song.select('p.artist > a')[0].text.strip()\n",
    "singer"
   ]
  },
  {
   "cell_type": "code",
   "execution_count": 62,
   "metadata": {},
   "outputs": [
    {
     "name": "stdout",
     "output_type": "stream",
     "text": [
      "Nxde|(여자)아이들\n",
      "ANTIFRAGILE|LE SSERAFIM (르세라핌)\n",
      "사건의 지평선|윤하(Younha/ユンナ)\n",
      "Hype Boy|NewJeans\n",
      "Rush Hour (Feat. j-hope of BTS)|Crush\n",
      "Shut Down|BLACKPINK\n",
      "After LIKE|IVE (아이브)\n",
      "Attention|NewJeans\n",
      "새삥 (Prod. ZICO) (Feat. 호미들)|지코\n",
      "Pink Venom|BLACKPINK\n",
      "자격지심 (Feat. ZICO)|BE'O (비오)\n",
      "I Don’t Think That I Like Her|Charlie Puth(찰리 푸스)\n",
      "ILLELLA (일낼라)|마마무(Mamamoo)\n",
      "LOVE DIVE|IVE (아이브)\n",
      "우린 그렇게 사랑해서|강민경\n",
      "딱 10CM만|10CM\n",
      "Monologue|테이(Tei)\n",
      "파노라마|이찬혁\n",
      "그라데이션|10CM\n",
      "정이라고 하자 (Feat. 10CM)|BIG Naughty (서동현)\n",
      "FEARLESS|LE SSERAFIM (르세라핌)\n",
      "그때 그 순간 그대로 (그그그)|WSG워너비 (가야G)\n",
      "Cookie|NewJeans\n",
      "그때로 돌아가|로이킴\n",
      "LAW (Prod. Czaer)|윤미래\n",
      "TOMBOY|(여자)아이들\n",
      "Change|(여자)아이들\n",
      "진심이었던 사람만 바보가 돼|권진아\n",
      "사랑인가 봐|멜로망스(MeloMance)\n",
      "도깨비불 (Illusion)|aespa\n",
      "SNEAKERS|ITZY (있지)\n",
      "ELEVEN|IVE (아이브)\n",
      "LOVE me|BE'O (비오)\n",
      "I Ain't Worried|OneRepublic(원리퍼블릭)\n",
      "That's Hilarious|Charlie Puth(찰리 푸스)\n",
      "다정히 내 이름을 부르면|경서예지\n",
      "내가 아니라도|주호\n",
      "Talk that Talk|TWICE (트와이스)\n",
      "FOREVER 1|소녀시대 (GIRLS' GENERATION)\n",
      "보고싶었어|WSG워너비 (4FIRE)\n",
      "strawberry moon|아이유(IU)\n",
      "DICE|NMIXX\n",
      "드라마|아이유(IU)\n",
      "Dangerously|Charlie Puth(찰리 푸스)\n",
      "Feel My Rhythm|Red Velvet (레드벨벳)\n",
      "나의 X에게|경서\n",
      "모든 날, 모든 순간 (Every day, Every Moment)|폴킴(Paul Kim)\n",
      "When I Get Old|Christopher(크리스토퍼)\n",
      "주저하는 연인들을 위해|잔나비\n",
      "너의 모든 순간|성시경\n",
      "STAY|The Kid LAROI\n",
      "해요 (2022)|#안녕\n",
      "Anti-Hero|Taylor Swift(테일러 스위프트)\n",
      "그래서 그대는|이영현\n",
      "폭망 (I Like You)|엔플라잉(N.Flying)\n",
      "내 기쁨은 너가 벤틀리를 끄는 거야|김승민\n",
      "Love story|볼빨간사춘기\n",
      "취중고백|김민석 (멜로망스)\n",
      "팡파레|다비치\n",
      "POP!|나연 (TWICE)\n",
      "못해|김나영\n",
      "INVU|태연 (TAEYEON)\n",
      "사랑하긴 했었나요 스쳐가는 인연이었나요 짧지않은 우리 함께했던 시간들이 자꾸 내 마음을 가둬두네|잔나비\n",
      "사랑은 늘 도망가|임영웅\n",
      "That That (prod. & feat. SUGA of BTS)|싸이 (PSY)\n",
      "LOVE|(여자)아이들\n",
      "Unholy|Sam Smith(샘 스미스)\n",
      "DOMESTIC (팔각정)|비\n",
      "Left and Right (Feat. Jung Kook of BTS)|Charlie Puth(찰리 푸스)\n",
      "봄여름가을겨울 (Still Life)|BIGBANG (빅뱅)\n",
      "Bad|Christopher(크리스토퍼)\n",
      "Off My Face|Justin Bieber(저스틴 비버)\n",
      "28 Reasons|슬기(SEULGI)\n",
      "신호등|이무진\n",
      "Ready For Love|BLACKPINK\n",
      "MY BAG|(여자)아이들\n",
      "Bad Habits|Ed Sheeran(에드 시런)\n",
      "Youth|기현\n",
      "떠나보낼 준비해 둘걸 그랬어|임한별\n",
      "As It Was|Harry Styles(해리 스타일스)\n",
      "Love Song|원슈타인\n",
      "가을밤에 든 생각|잔나비\n",
      "Girls|aespa\n",
      "초록을거머쥔우리는|잔나비\n",
      "ROYAL|IVE (아이브)\n",
      "그대는 날 잊고 잘 지내나요 (I Still Miss You)|황치열\n",
      "밤하늘의 별을(2020)|경서\n",
      "ai|데이먼스 이어(Damons year)\n",
      "No Celestial|LE SSERAFIM (르세라핌)\n",
      "World's Smallest Violin|AJR\n",
      "Leave Before You Love Me|Marshmello(마시멜로)\n",
      "Save Your Tears (Remix)|The Weeknd(위켄드)\n",
      "Blue Flame|LE SSERAFIM (르세라핌)\n",
      "Panorama|IZ*ONE(아이즈원)\n",
      "어떻게 이별까지 사랑하겠어, 널 사랑하는 거지|AKMU(악뮤)\n",
      "SMILEY (Feat. BIBI)|YENA (최예나)\n",
      "Hurt|NewJeans\n",
      "Loser|Charlie Puth(찰리 푸스)\n",
      "시작|가호(Gaho)\n",
      "스티커 사진|21학번\n"
     ]
    }
   ],
   "source": [
    "#벅스 100위 노래 순위 가져오기\n",
    "songs = soup.select('table.byChart > tbody > tr')\n",
    "for song in songs:\n",
    "    title = song.select('p.title > a')[0].text \n",
    "    singer = song.select('p.artist > a')[0].text \n",
    "    print(title, singer, sep=\"|\")"
   ]
  },
  {
   "cell_type": "code",
   "execution_count": 63,
   "metadata": {},
   "outputs": [],
   "source": [
    "#반복문으로 곡과 가수명을 song_data에 저장하기\n",
    "song_data = []\n",
    "rank = 1 \n",
    "songs = soup.select('table.byChart > tbody > tr')\n",
    "for song in songs:\n",
    "    title = song.select('p.title > a')[0].text \n",
    "    singer = song.select('p.artist > a')[0].text \n",
    "    song_data.append(['Bugs', rank, title, singer])\n",
    "    rank = rank + 1 \n",
    "\n",
    "    "
   ]
  },
  {
   "cell_type": "code",
   "execution_count": 64,
   "metadata": {},
   "outputs": [
    {
     "name": "stdout",
     "output_type": "stream",
     "text": [
      "<class 'pandas.core.frame.DataFrame'>\n",
      "RangeIndex: 100 entries, 0 to 99\n",
      "Data columns (total 4 columns):\n",
      " #   Column  Non-Null Count  Dtype \n",
      "---  ------  --------------  ----- \n",
      " 0   서비스     100 non-null    object\n",
      " 1   순위      100 non-null    int64 \n",
      " 2   타이틀     100 non-null    object\n",
      " 3   가수      100 non-null    object\n",
      "dtypes: int64(1), object(3)\n",
      "memory usage: 3.2+ KB\n"
     ]
    }
   ],
   "source": [
    "#데이터프레임 만들기\n",
    "import pandas as pd \n",
    "columns = ['서비스','순위','타이틀','가수']\n",
    "pd_data = pd.DataFrame(song_data, columns = columns)\n",
    "pd_data.info()"
   ]
  },
  {
   "cell_type": "code",
   "execution_count": 65,
   "metadata": {},
   "outputs": [],
   "source": [
    "#엑셀 파일로 저장\n",
    "pd_data.to_excel('c:\\\\work\\\\bugs.xlsx', index=False)\n"
   ]
  },
  {
   "cell_type": "code",
   "execution_count": 67,
   "metadata": {},
   "outputs": [],
   "source": [
    "#지니 크롤링 결과를 엑셀로 저장하기 \n",
    "\n",
    "url = 'https://www.genie.co.kr/chart/top200'\n",
    "driver.get(url)\n",
    "\n",
    "html = driver.page_source \n",
    "soup = BeautifulSoup(html, 'html.parser')"
   ]
  },
  {
   "cell_type": "code",
   "execution_count": 68,
   "metadata": {},
   "outputs": [
    {
     "name": "stdout",
     "output_type": "stream",
     "text": [
      "50\n"
     ]
    }
   ],
   "source": [
    "songs = soup.select('table > tbody > tr')\n",
    "print(len(songs))"
   ]
  },
  {
   "cell_type": "code",
   "execution_count": 69,
   "metadata": {},
   "outputs": [],
   "source": [
    "#지니 결과 엑셀로 저장하기\n",
    "song_data = []\n",
    "rank = 1 \n",
    "songs = soup.select('tbody > tr')\n",
    "for song in songs: \n",
    "    title = song.select('a.title')[0].text.strip()\n",
    "    singer = song.select('a.artist')[0].text \n",
    "    song_data.append(['Genie',rank,title,singer])\n",
    "    rank = rank + 1 \n",
    "\n",
    "columns = ['서비스','순위','타이틀','가수']\n",
    "pd_data = pd.DataFrame(song_data, columns=columns)\n",
    "pd_data.to_excel('c:\\work\\genie.xlsx', index=False)"
   ]
  },
  {
   "cell_type": "code",
   "execution_count": 73,
   "metadata": {},
   "outputs": [
    {
     "name": "stderr",
     "output_type": "stream",
     "text": [
      "C:\\Users\\user\\AppData\\Local\\Temp\\ipykernel_6108\\2658091915.py:7: FutureWarning: The frame.append method is deprecated and will be removed from pandas in a future version. Use pandas.concat instead.\n",
      "  appended_data = appended_data.append(pd_data)\n",
      "C:\\Users\\user\\AppData\\Local\\Temp\\ipykernel_6108\\2658091915.py:7: FutureWarning: The frame.append method is deprecated and will be removed from pandas in a future version. Use pandas.concat instead.\n",
      "  appended_data = appended_data.append(pd_data)\n",
      "C:\\Users\\user\\AppData\\Local\\Temp\\ipykernel_6108\\2658091915.py:7: FutureWarning: The frame.append method is deprecated and will be removed from pandas in a future version. Use pandas.concat instead.\n",
      "  appended_data = appended_data.append(pd_data)\n"
     ]
    },
    {
     "data": {
      "text/html": [
       "<div>\n",
       "<style scoped>\n",
       "    .dataframe tbody tr th:only-of-type {\n",
       "        vertical-align: middle;\n",
       "    }\n",
       "\n",
       "    .dataframe tbody tr th {\n",
       "        vertical-align: top;\n",
       "    }\n",
       "\n",
       "    .dataframe thead th {\n",
       "        text-align: right;\n",
       "    }\n",
       "</style>\n",
       "<table border=\"1\" class=\"dataframe\">\n",
       "  <thead>\n",
       "    <tr style=\"text-align: right;\">\n",
       "      <th></th>\n",
       "      <th>서비스</th>\n",
       "      <th>순위</th>\n",
       "      <th>타이틀</th>\n",
       "      <th>가수</th>\n",
       "    </tr>\n",
       "  </thead>\n",
       "  <tbody>\n",
       "    <tr>\n",
       "      <th>40</th>\n",
       "      <td>Genie</td>\n",
       "      <td>41</td>\n",
       "      <td>FOREVER 1</td>\n",
       "      <td>소녀시대 (GIRLS' GENERATION)</td>\n",
       "    </tr>\n",
       "    <tr>\n",
       "      <th>41</th>\n",
       "      <td>Genie</td>\n",
       "      <td>42</td>\n",
       "      <td>내가 아니라도</td>\n",
       "      <td>주호</td>\n",
       "    </tr>\n",
       "    <tr>\n",
       "      <th>42</th>\n",
       "      <td>Genie</td>\n",
       "      <td>43</td>\n",
       "      <td>나의 X에게</td>\n",
       "      <td>경서</td>\n",
       "    </tr>\n",
       "    <tr>\n",
       "      <th>43</th>\n",
       "      <td>Genie</td>\n",
       "      <td>44</td>\n",
       "      <td>해요 (2022)</td>\n",
       "      <td>#안녕</td>\n",
       "    </tr>\n",
       "    <tr>\n",
       "      <th>44</th>\n",
       "      <td>Genie</td>\n",
       "      <td>45</td>\n",
       "      <td>FEARLESS</td>\n",
       "      <td>LE SSERAFIM (르세라핌)</td>\n",
       "    </tr>\n",
       "    <tr>\n",
       "      <th>45</th>\n",
       "      <td>Genie</td>\n",
       "      <td>46</td>\n",
       "      <td>다정히 내 이름을 부르면</td>\n",
       "      <td>경서예지 &amp; 전건호</td>\n",
       "    </tr>\n",
       "    <tr>\n",
       "      <th>46</th>\n",
       "      <td>Genie</td>\n",
       "      <td>47</td>\n",
       "      <td>취중고백</td>\n",
       "      <td>김민석 (멜로망스)</td>\n",
       "    </tr>\n",
       "    <tr>\n",
       "      <th>47</th>\n",
       "      <td>Genie</td>\n",
       "      <td>48</td>\n",
       "      <td>정이라고 하자 (Feat. 10CM)</td>\n",
       "      <td>BIG Naughty (서동현)</td>\n",
       "    </tr>\n",
       "    <tr>\n",
       "      <th>48</th>\n",
       "      <td>Genie</td>\n",
       "      <td>49</td>\n",
       "      <td>strawberry moon</td>\n",
       "      <td>아이유 (IU)</td>\n",
       "    </tr>\n",
       "    <tr>\n",
       "      <th>49</th>\n",
       "      <td>Genie</td>\n",
       "      <td>50</td>\n",
       "      <td>너의 모든 순간</td>\n",
       "      <td>성시경</td>\n",
       "    </tr>\n",
       "  </tbody>\n",
       "</table>\n",
       "</div>"
      ],
      "text/plain": [
       "      서비스  순위                   타이틀                        가수\n",
       "40  Genie  41             FOREVER 1  소녀시대 (GIRLS' GENERATION)\n",
       "41  Genie  42               내가 아니라도                        주호\n",
       "42  Genie  43                나의 X에게                        경서\n",
       "43  Genie  44             해요 (2022)                       #안녕\n",
       "44  Genie  45              FEARLESS        LE SSERAFIM (르세라핌)\n",
       "45  Genie  46         다정히 내 이름을 부르면                경서예지 & 전건호\n",
       "46  Genie  47                  취중고백                김민석 (멜로망스)\n",
       "47  Genie  48  정이라고 하자 (Feat. 10CM)         BIG Naughty (서동현)\n",
       "48  Genie  49       strawberry moon                  아이유 (IU)\n",
       "49  Genie  50              너의 모든 순간                       성시경"
      ]
     },
     "execution_count": 73,
     "metadata": {},
     "output_type": "execute_result"
    }
   ],
   "source": [
    "#멜론, 벅스, 지니 크롤링 엑셀 파일 통합하기 \n",
    "import pandas as pd \n",
    "excel_names = ['c:\\\\work\\\\melon.xlsx','c:\\\\work\\\\bugs.xlsx','c:\\\\work\\\\genie.xlsx']\n",
    "appended_data = pd.DataFrame()\n",
    "for name in excel_names:\n",
    "    pd_data = pd.read_excel(name)\n",
    "    appended_data = appended_data.append(pd_data)\n",
    "\n",
    "#appended_data.info()\n",
    "appended_data.tail(10)"
   ]
  },
  {
   "cell_type": "code",
   "execution_count": 74,
   "metadata": {},
   "outputs": [],
   "source": [
    "#통합한 크롤링 결과를 엑셀 파일로 저장하기\n",
    "appended_data.to_excel('c:\\\\work\\\\total.xlsx', index=False)\n"
   ]
  },
  {
   "cell_type": "code",
   "execution_count": 75,
   "metadata": {},
   "outputs": [],
   "source": [
    "#유튜브 랭킹 데이터 수집하기\n",
    "from selenium import webdriver \n",
    "from bs4 import BeautifulSoup\n",
    "import time \n",
    "import pandas as pd \n",
    "\n",
    "#이 부분을 수정한다. \n",
    "driver = set_chrome_driver()\n",
    "\n",
    "url = 'https://youtube-rank.com/board/bbs/board.php?bo_table=youtube'\n",
    "driver.get(url)\n"
   ]
  },
  {
   "cell_type": "code",
   "execution_count": 76,
   "metadata": {},
   "outputs": [],
   "source": [
    "#페이지 정보 가져오기\n",
    "html = driver.page_source \n",
    "soup = BeautifulSoup(html, 'html.parser')\n"
   ]
  },
  {
   "cell_type": "code",
   "execution_count": 64,
   "metadata": {},
   "outputs": [
    {
     "name": "stdout",
     "output_type": "stream",
     "text": [
      "102 \n",
      "\n",
      "<tr>\n",
      "<th class=\"rank\"><a href=\"/board/bbs/board.php?bo_table=youtube&amp;sop=and&amp;sst=rank&amp;sod=desc&amp;sfl=&amp;stx=&amp;sca=&amp;page=1\">순위 <i aria-hidden=\"true\" class=\"fa fa-sort\"></i></a></th>\n",
      "<th class=\"td_img\">이미지</th>\n",
      "<th class=\"subject\">제목</th>\n",
      "<th class=\"subscriber_cnt\"><a href=\"/board/bbs/board.php?bo_table=youtube&amp;sop=and&amp;sst=subscriber_cnt&amp;sod=desc&amp;sfl=&amp;stx=&amp;sca=&amp;page=1\">구독자순 <i aria-hidden=\"true\" class=\"fa fa-sort\"></i></a></th>\n",
      "<th class=\"view_cnt\"><a href=\"/board/bbs/board.php?bo_table=youtube&amp;sop=and&amp;sst=view_cnt&amp;sod=desc&amp;sfl=&amp;stx=&amp;sca=&amp;page=1\">View순 <i aria-hidden=\"true\" class=\"fa fa-sort\"></i></a></th>\n",
      "<th class=\"video_cnt\"><a href=\"/board/bbs/board.php?bo_table=youtube&amp;sop=and&amp;sst=video_cnt&amp;sod=desc&amp;sfl=&amp;stx=&amp;sca=&amp;page=1\">Video순 <i aria-hidden=\"true\" class=\"fa fa-sort\"></i></a></th>\n",
      "<th class=\"hit\"><a href=\"/board/bbs/board.php?bo_table=youtube&amp;sop=and&amp;sst=wr_hit&amp;sod=desc&amp;sfl=&amp;stx=&amp;sca=&amp;page=1\">조회수 <i aria-hidden=\"true\" class=\"fa fa-sort\"></i></a></th>\n",
      "</tr>\n"
     ]
    }
   ],
   "source": [
    "#tr태그 추출하기\n",
    "channel_list = soup.select('tr')\n",
    "print(len(channel_list), '\\n')\n",
    "print(channel_list[0])"
   ]
  },
  {
   "cell_type": "code",
   "execution_count": 77,
   "metadata": {},
   "outputs": [
    {
     "name": "stdout",
     "output_type": "stream",
     "text": [
      "100\n"
     ]
    }
   ],
   "source": [
    "#tr 태그 확인하기\n",
    "channel_list = soup.select('form > table > tbody > tr')\n",
    "print(len(channel_list))"
   ]
  },
  {
   "cell_type": "code",
   "execution_count": 78,
   "metadata": {},
   "outputs": [
    {
     "name": "stdout",
     "output_type": "stream",
     "text": [
      "<tr class=\"aos-init aos-animate\" data-aos=\"fade-up\" data-aos-duration=\"800\">\n",
      "<td class=\"rank\">\n",
      "                        1                    </td>\n",
      "<td class=\"td_img\">\n",
      "<div class=\"info_img\"><a href=\"https://youtube-rank.com/board/bbs/board.php?bo_table=youtube&amp;wr_id=3203\"><img class=\"lazyload\" data-src=\"https://yt3.ggpht.com/hZDUwjoeQqigphL4A1tkg9c6hVp5yXmbboBR7PYFUSFj5PIJSA483NB5v7b0XVoTN9GCku3tqQ=s88-c-k-c0x00ffffff-no-nd-rj\" height=\"88\" src=\"https://yt3.ggpht.com/hZDUwjoeQqigphL4A1tkg9c6hVp5yXmbboBR7PYFUSFj5PIJSA483NB5v7b0XVoTN9GCku3tqQ=s88-c-k-c0x00ffffff-no-nd-rj\" title=\"\" width=\"88\"/></a></div>\n",
      "<p class=\"info_rank\">1</p>\n",
      "</td>\n",
      "<td class=\"subject\">\n",
      "<h1>\n",
      "<p <a=\"\" class=\"category\" href=\"https://youtube-rank.com/board/bbs/board.php?bo_table=youtube&amp;sca=%EC%9D%8C%EC%95%85%2F%EB%8C%84%EC%8A%A4%2F%EA%B0%80%EC%88%98\">[음악/댄스/가수]\n",
      "                                \n",
      "                                </p>\n",
      "<a href=\"https://youtube-rank.com/board/bbs/board.php?bo_table=youtube&amp;wr_id=3203\">\n",
      "\t\t\t\t\t\t\t\t\n",
      "\t\t\t\t\t\t\t\tBLACKPINK\t\t\t\t\t\t\t</a>\n",
      "<span>\n",
      "<i class=\"fa fa-comment\"></i>\n",
      "\t\t\t\t\t\t\t\t1\t\t\t\t\t\t\t</span>\n",
      "<i aria-hidden=\"true\" class=\"fa fa-heart\"></i> </h1>\n",
      "<h2><span><a href=\"https://youtube-rank.com/board/bbs/board.php?bo_table=youtube&amp;wr_id=3203\">\"YG Entertainment\" YG 와이지 K-pop BLACKPINK 블랙핑크 블핑 제니 로제 리사 지수 Lisa Jisoo Jennie ...</a></span></h2>\n",
      "<h3>\n",
      "<i class=\"fa fa-user\"></i>\n",
      "                            8250만<i class=\"fa fa-play\"></i>275억4684만                            <i class=\"fa fa-video-camera\"></i>\n",
      "                            443                            <i class=\"fa fa-eye\"></i>\n",
      "                            23,357                        </h3>\n",
      "</td>\n",
      "<td class=\"subscriber_cnt\">8250만</td>\n",
      "<td class=\"view_cnt\">275억4684만</td>\n",
      "<td class=\"video_cnt\">443개</td>\n",
      "<td class=\"hit\">\n",
      "<strong>23,357</strong>\n",
      "<span>HIT</span>\n",
      "</td>\n",
      "</tr>\n"
     ]
    }
   ],
   "source": [
    "#채널 하나만 출력하기\n",
    "channel = channel_list[0]\n",
    "print(channel)"
   ]
  },
  {
   "cell_type": "code",
   "execution_count": 79,
   "metadata": {},
   "outputs": [
    {
     "name": "stdout",
     "output_type": "stream",
     "text": [
      "[음악/댄스/가수]\n"
     ]
    }
   ],
   "source": [
    "#카테코리 정보 추출하기\n",
    "category = channel.select('p.category')[0].text.strip()\n",
    "print(category)"
   ]
  },
  {
   "cell_type": "code",
   "execution_count": 80,
   "metadata": {},
   "outputs": [
    {
     "name": "stdout",
     "output_type": "stream",
     "text": [
      "BLACKPINK\n"
     ]
    }
   ],
   "source": [
    "#채널명 찾아오기\n",
    "title = channel.select('h1 > a')[0].text.strip()\n",
    "print(title)"
   ]
  },
  {
   "cell_type": "code",
   "execution_count": 81,
   "metadata": {},
   "outputs": [
    {
     "name": "stdout",
     "output_type": "stream",
     "text": [
      "8250만\n",
      "275억4684만\n",
      "443개\n"
     ]
    }
   ],
   "source": [
    "#구독자수, View수, 동영상수 추출하기\n",
    "subscriber = channel.select('.subscriber_cnt')[0].text \n",
    "view = channel.select('.view_cnt')[0].text \n",
    "video = channel.select('.video_cnt')[0].text \n",
    "\n",
    "print(subscriber)\n",
    "print(view)\n",
    "print(video)\n"
   ]
  },
  {
   "cell_type": "code",
   "execution_count": 82,
   "metadata": {},
   "outputs": [
    {
     "name": "stdout",
     "output_type": "stream",
     "text": [
      "BLACKPINK [음악/댄스/가수] 8250만 275억4684만 443개\n",
      "BANGTANTV [음악/댄스/가수] 7140만 182억2137만 1,838개\n",
      "HYBE LABELS [음악/댄스/가수] 6850만 249억0860만 1,018개\n",
      "SMTOWN [음악/댄스/가수] 3100만 257억6317만 3,991개\n",
      "Boram Tube Vlog [보람튜브 브이로그] [키즈/어린이] 2650만 110억5288만 223개\n",
      "JYP Entertainment [음악/댄스/가수] 2590만 178억8173만 1,572개\n",
      "1MILLION Dance Studio [음악/댄스/가수] 2570만 75억2250만 4,561개\n",
      "1theK (원더케이) [음악/댄스/가수] 2430만 229억0824만 17,285개\n",
      "Mnet K-POP [음악/댄스/가수] 1990만 135억6425만 29,421개\n",
      "KBS WORLD TV [TV/방송] 1840만 142억0588만 59,786개\n",
      "officialpsy [음악/댄스/가수] 1760만 100억6441만 121개\n",
      "JFlaMusic [음악/댄스/가수] 1760만 36억9650만 290개\n",
      "Jane ASMR 제인 [음식/요리/레시피] 1700만 67억0559만 1,624개\n",
      "BIGBANG [음악/댄스/가수] 1490만 74억6601만 776개\n",
      "TWICE [음악/댄스/가수] 1490만 41억0482만 934개\n",
      "Boram Tube ToysReview [보람튜브 토이리뷰] [키즈/어린이] 1440만 49억3406만 579개\n",
      "Hongyu ASMR 홍유 [음식/요리/레시피] 1410만 45억0246만 550개\n",
      "BIBO와 장난감 [키즈/어린이] 1270만 29억7543만 162개\n",
      "Kendrick Lamar [미분류] 1140만 50억0882만 20개\n",
      "핑크퐁 (인기 동요・동화) [키즈/어린이] 1100만 67억8305만 2,803개\n",
      "Stray Kids [음악/댄스/가수] 1080만 22억9098만 665개\n",
      "DuDuPopTOY [키즈/어린이] 1060만 49억2449만 2,295개\n",
      "[햄지]Hamzy [음식/요리/레시피] 1050만 34억1697만 491개\n",
      "Stone Music Entertainment [음악/댄스/가수] 1050만 91억4330만 9,341개\n",
      "Toymong tv 토이몽TV [키즈/어린이] 1050만 43억6024만 2,156개\n",
      "서은일상이야기 [키즈/어린이] 1020만 25억3103만 686개\n",
      "MBCkpop [TV/방송] 1000만 83억9950만 43,957개\n",
      "Larva TUBA [키즈/어린이] 985만 43억8809만 2,062개\n",
      "TOMORROW X TOGETHER OFFICIAL [음악/댄스/가수] 984만 9억6987만 1,227개\n",
      "서은이야기[SeoeunStory] [키즈/어린이] 943만 32억8923만 1,153개\n",
      "EXO [음악/댄스/가수] 896만 6억7704만 306개\n",
      "Mnet TV [음악/댄스/가수] 893만 110억4216만 20,846개\n",
      "MBCentertainment [뉴스/정치/사회] 887만 163억5892만 94,004개\n",
      "쏘영 Ssoyoung [음식/요리/레시피] 886만 11억6127만 664개\n",
      "Boram Tube [宝蓝和朋友们] [키즈/어린이] 882만 23억6082만 458개\n",
      "iKON [음악/댄스/가수] 875만 23억9185만 577개\n",
      "M2 [TV/방송] 869만 72억2068만 17,487개\n",
      "SEVENTEEN [음악/댄스/가수] 858만 33억0898만 1,273개\n",
      "Serie A [해외] 849만 31억0702만 23,842개\n",
      "문복희 Eat with Boki [음식/요리/레시피] 837만 21억9013만 630개\n",
      "이지금 [IU Official] [음악/댄스/가수] 818만 17억6639만 157개\n",
      "ITZY [음악/댄스/가수] 780만 18억1374만 822개\n",
      "MariAndKids [키즈/어린이] 761만 23억6667만 811개\n",
      "JTBC Entertainment [뉴스/정치/사회] 750만 112억1432만 74,004개\n",
      "HUBA후바 [미분류] 741만 58억4588만 367개\n",
      "SonicToy소닉토이 [키즈/어린이] 731만 31억1373만 168개\n",
      "KBS Kpop [TV/방송] 730만 62억3096만 35,452개\n",
      "tzuyang쯔양 [음식/요리/레시피] 719만 15억1366만 444개\n",
      "야미보이 Yummyboy [음식/요리/레시피] 716만 28억5682만 1,000개\n",
      "스브스케이팝 X INKIGAYO [TV/방송] 704만 53억3688만 31,344개\n",
      "Sungha Jung [음악/댄스/가수] 700만 19억5263만 1,352개\n",
      "YG ENTERTAINMENT [음악/댄스/가수] 686만 17억3848만 397개\n",
      "MAMAMOO [음악/댄스/가수] 685만 21억8543만 760개\n",
      "ENHYPEN [미분류] 684만 9억7062만 656개\n",
      "ALL THE K-POP [음악/댄스/가수] 677만 43억7574만 24,750개\n",
      "YouTube Originals [회사/오피셜] 671만 6억5215만 467개\n",
      "SBS Entertainment [TV/방송] 659만 82억6224만 223,716개\n",
      "미니특공대TV [키즈/어린이] 654만 36억9779만 1,351개\n",
      "TREASURE (트레저) [음악/댄스/가수] 649만 16억7501만 582개\n",
      "[장난감티비]TOYTV [키즈/어린이] 645만 30억8353만 1,609개\n",
      "tvN drama [TV/방송] 641만 70억7091만 45,852개\n",
      "SBS Drama [TV/방송] 635만 68억5681만 343,857개\n",
      "GOT7 [음악/댄스/가수] 629만 8억6324만 579개\n",
      "Samsung [회사/오피셜] 626만 15억7245만 1,651개\n",
      "PONY Syndrome [패션/미용] 594만 3억6110만 230개\n",
      "PinkyPopTOY [키즈/어린이] 569만 9억6195만 1,486개\n",
      "starshipTV [음악/댄스/가수] 564만 35억8138만 2,075개\n",
      "With Kids Playground [위드키즈 놀이터] [키즈/어린이] 561만 21억1614만 437개\n",
      "스위트티비 SweetTV [키즈/어린이] 560만 28억1603만 437개\n",
      "백종원의 요리비책 Paik's Cuisine [음식/요리/레시피] 558만 7억5732만 468개\n",
      "2NE1 [음악/댄스/가수] 555만 21억5545만 321개\n",
      "NCT [음악/댄스/가수] 552만 7억1183만 439개\n",
      "영국남자 Korean Englishman [BJ/인물/연예인] 542만 18억2597만 492개\n",
      "GH'S [미분류] 538만 27억3701만 213개\n",
      "TOY GUMA [키즈/어린이] 535만 17억5797만 364개\n",
      "NCT DREAM [음악/댄스/가수] 529만 8억6496만 425개\n",
      "MayTree [미분류] 525만 10억5583만 182개\n",
      "콩순이 · 시크릿쥬쥬 [Kongsuni · Secret Jouju] [키즈/어린이] 525만 48억8490만 1,373개\n",
      "베이비버스 -인기 동요・동화 [키즈/어린이] 524만 36억7853만 1,496개\n",
      "[Awesome Haeun]어썸하은 [BJ/인물/연예인] 521만 8억5880만 521개\n",
      "푸메Fume [음식/요리/레시피] 520만 11억2429만 606개\n",
      "Red Velvet [음악/댄스/가수] 520만 11억0937만 236개\n",
      "Rosesarerosie [음악/댄스/가수] 511만 5075만 9개\n",
      "SBS NOW / SBS 공식 채널 [뉴스/정치/사회] 511만 53억9906만 22,566개\n",
      "5 분 Tricks [음식/요리/레시피] 509만 19억6307만 4,002개\n",
      "미니팡TV [키즈/어린이] 503만 33억7694만 847개\n",
      "KBS Entertain [TV/방송] 494만 85억3048만 111,401개\n",
      "BT21 [음악/댄스/가수] 494만 4억4407만 273개\n",
      "NCT 127 [음악/댄스/가수] 491만 7억6632만 464개\n",
      "ToyMart TV [키즈/어린이] 486만 21억4315만 667개\n",
      "MBCdrama [TV/방송] 484만 55억5952만 58,184개\n",
      "떵개떵 [음식/요리/레시피] 482만 28억6843만 4,741개\n",
      "ASTRO 아스트로 [음악/댄스/가수] 481만 5억3662만 580개\n",
      "채널 십오야 [TV/방송] 476만 11억5186만 685개\n",
      "SBS TV동물농장x애니멀봐 [애완/반려동물] 471만 44억3341만 3,787개\n",
      "뽀로로(Pororo) [키즈/어린이] 464만 65억5932만 3,992개\n",
      "JTBC Drama [TV/방송] 461만 49억0359만 26,329개\n",
      "Cooking tree 쿠킹트리 [음식/요리/레시피] 461만 4억5781만 1,353개\n",
      "까니짱 [ G-NI : 蟹ちゃん] [음식/요리/레시피] 459만 13억1192만 688개\n",
      "CoCosToy 꼬꼬스토이 [키즈/어린이] 457만 27억8118만 644개\n"
     ]
    },
    {
     "ename": "IndexError",
     "evalue": "list index out of range",
     "output_type": "error",
     "traceback": [
      "\u001b[1;31m---------------------------------------------------------------------------\u001b[0m",
      "\u001b[1;31mIndexError\u001b[0m                                Traceback (most recent call last)",
      "Cell \u001b[1;32mIn [82], line 4\u001b[0m\n\u001b[0;32m      2\u001b[0m channel_list \u001b[39m=\u001b[39m soup\u001b[39m.\u001b[39mselect(\u001b[39m'\u001b[39m\u001b[39mtbody > tr\u001b[39m\u001b[39m'\u001b[39m)\n\u001b[0;32m      3\u001b[0m \u001b[39mfor\u001b[39;00m channel \u001b[39min\u001b[39;00m channel_list:\n\u001b[1;32m----> 4\u001b[0m     title \u001b[39m=\u001b[39m channel\u001b[39m.\u001b[39;49mselect(\u001b[39m'\u001b[39;49m\u001b[39mh1 > a\u001b[39;49m\u001b[39m'\u001b[39;49m)[\u001b[39m0\u001b[39;49m]\u001b[39m.\u001b[39mtext\u001b[39m.\u001b[39mstrip()\n\u001b[0;32m      5\u001b[0m     category \u001b[39m=\u001b[39m channel\u001b[39m.\u001b[39mselect(\u001b[39m'\u001b[39m\u001b[39mp.category\u001b[39m\u001b[39m'\u001b[39m)[\u001b[39m0\u001b[39m]\u001b[39m.\u001b[39mtext\u001b[39m.\u001b[39mstrip()\n\u001b[0;32m      6\u001b[0m     subscriber \u001b[39m=\u001b[39m channel\u001b[39m.\u001b[39mselect(\u001b[39m'\u001b[39m\u001b[39m.subscriber_cnt\u001b[39m\u001b[39m'\u001b[39m)[\u001b[39m0\u001b[39m]\u001b[39m.\u001b[39mtext \n",
      "\u001b[1;31mIndexError\u001b[0m: list index out of range"
     ]
    }
   ],
   "source": [
    "#반복문으로 채널 정보 추출하기\n",
    "channel_list = soup.select('tbody > tr')\n",
    "for channel in channel_list:\n",
    "    title = channel.select('h1 > a')[0].text.strip()\n",
    "    category = channel.select('p.category')[0].text.strip()\n",
    "    subscriber = channel.select('.subscriber_cnt')[0].text \n",
    "    view = channel.select('.view_cnt')[0].text \n",
    "    video = channel.select('.video_cnt')[0].text \n",
    "    print(title, category, subscriber, view, video)"
   ]
  },
  {
   "cell_type": "code",
   "execution_count": 83,
   "metadata": {},
   "outputs": [
    {
     "name": "stdout",
     "output_type": "stream",
     "text": [
      "https://youtube-rank.com/board/bbs/board.php?bo_table=youtube&page={page}\n",
      "https://youtube-rank.com/board/bbs/board.php?bo_table=youtube&page={page}\n",
      "https://youtube-rank.com/board/bbs/board.php?bo_table=youtube&page={page}\n",
      "https://youtube-rank.com/board/bbs/board.php?bo_table=youtube&page={page}\n",
      "https://youtube-rank.com/board/bbs/board.php?bo_table=youtube&page={page}\n",
      "https://youtube-rank.com/board/bbs/board.php?bo_table=youtube&page={page}\n",
      "https://youtube-rank.com/board/bbs/board.php?bo_table=youtube&page={page}\n",
      "https://youtube-rank.com/board/bbs/board.php?bo_table=youtube&page={page}\n",
      "https://youtube-rank.com/board/bbs/board.php?bo_table=youtube&page={page}\n",
      "https://youtube-rank.com/board/bbs/board.php?bo_table=youtube&page={page}\n"
     ]
    }
   ],
   "source": [
    "#반복문으로 유튜브 랭킹 화면의 여러 페이지를 크롤링하기 \n",
    "results = []\n",
    "for page in range(1,11):\n",
    "    url = 'https://youtube-rank.com/board/bbs/board.php?bo_table=youtube&page={page}'\n",
    "    driver.get(url)\n",
    "    print( url )\n",
    "    time.sleep(2)\n",
    "    html = driver.page_source \n",
    "    soup = BeautifulSoup(html, 'html.parser')\n",
    "    channel_list = soup.select('form > table > tbody > tr')\n",
    "    for channel in channel_list:\n",
    "        title = channel.select('h1 > a')[0].text.strip()\n",
    "        category = channel.select('p.category')[0].text.strip()\n",
    "        subscriber = channel.select('.subscriber_cnt')[0].text \n",
    "        view = channel.select('.view_cnt')[0].text \n",
    "        video = channel.select('.video_cnt')[0].text \n",
    "        data = [title, category, subscriber, view, video]\n",
    "        results.append(data)"
   ]
  },
  {
   "cell_type": "code",
   "execution_count": 84,
   "metadata": {},
   "outputs": [],
   "source": [
    "#엑셀에 저장\n",
    "df = pd.DataFrame(results)\n",
    "df.columns = ['title','category','subscriber','view','video']\n",
    "df.to_excel('c:\\\\work\\\\youtube_rank.xlsx',index=False)"
   ]
  },
  {
   "cell_type": "code",
   "execution_count": 85,
   "metadata": {},
   "outputs": [],
   "source": [
    "#유튜브 랭킹 데이터 시각화 \n",
    "import pandas as pd \n",
    "import matplotlib.pyplot as plt \n",
    "from matplotlib import font_manager, rc \n",
    "import platform \n",
    "\n",
    "if platform.system() == \"Windows\":\n",
    "    path = 'c:\\\\Windows\\\\Fonts\\\\malgun.ttf'\n",
    "    font_name = font_manager.FontProperties(fname=path).get_name() \n",
    "    rc('font', family=font_name)\n",
    "elif platform.system() == \"Darwin\":\n",
    "    rc('font', family='AppleGothic')\n",
    "else:\n",
    "    print('Check your OS system')\n",
    "\n",
    "\n",
    "\n",
    "\n"
   ]
  },
  {
   "cell_type": "code",
   "execution_count": 86,
   "metadata": {},
   "outputs": [
    {
     "data": {
      "text/html": [
       "<div>\n",
       "<style scoped>\n",
       "    .dataframe tbody tr th:only-of-type {\n",
       "        vertical-align: middle;\n",
       "    }\n",
       "\n",
       "    .dataframe tbody tr th {\n",
       "        vertical-align: top;\n",
       "    }\n",
       "\n",
       "    .dataframe thead th {\n",
       "        text-align: right;\n",
       "    }\n",
       "</style>\n",
       "<table border=\"1\" class=\"dataframe\">\n",
       "  <thead>\n",
       "    <tr style=\"text-align: right;\">\n",
       "      <th></th>\n",
       "      <th>title</th>\n",
       "      <th>category</th>\n",
       "      <th>subscriber</th>\n",
       "      <th>view</th>\n",
       "      <th>video</th>\n",
       "    </tr>\n",
       "  </thead>\n",
       "  <tbody>\n",
       "    <tr>\n",
       "      <th>0</th>\n",
       "      <td>BLACKPINK</td>\n",
       "      <td>[음악/댄스/가수]</td>\n",
       "      <td>8250만</td>\n",
       "      <td>275억4684만</td>\n",
       "      <td>443개</td>\n",
       "    </tr>\n",
       "    <tr>\n",
       "      <th>1</th>\n",
       "      <td>BANGTANTV</td>\n",
       "      <td>[음악/댄스/가수]</td>\n",
       "      <td>7140만</td>\n",
       "      <td>182억2137만</td>\n",
       "      <td>1,838개</td>\n",
       "    </tr>\n",
       "    <tr>\n",
       "      <th>2</th>\n",
       "      <td>HYBE LABELS</td>\n",
       "      <td>[음악/댄스/가수]</td>\n",
       "      <td>6850만</td>\n",
       "      <td>249억0860만</td>\n",
       "      <td>1,018개</td>\n",
       "    </tr>\n",
       "    <tr>\n",
       "      <th>3</th>\n",
       "      <td>SMTOWN</td>\n",
       "      <td>[음악/댄스/가수]</td>\n",
       "      <td>3100만</td>\n",
       "      <td>257억6317만</td>\n",
       "      <td>3,991개</td>\n",
       "    </tr>\n",
       "    <tr>\n",
       "      <th>4</th>\n",
       "      <td>Boram Tube Vlog [보람튜브 브이로그]</td>\n",
       "      <td>[키즈/어린이]</td>\n",
       "      <td>2650만</td>\n",
       "      <td>110억5288만</td>\n",
       "      <td>223개</td>\n",
       "    </tr>\n",
       "  </tbody>\n",
       "</table>\n",
       "</div>"
      ],
      "text/plain": [
       "                         title    category subscriber       view   video\n",
       "0                    BLACKPINK  [음악/댄스/가수]      8250만  275억4684만    443개\n",
       "1                    BANGTANTV  [음악/댄스/가수]      7140만  182억2137만  1,838개\n",
       "2                  HYBE LABELS  [음악/댄스/가수]      6850만  249억0860만  1,018개\n",
       "3                       SMTOWN  [음악/댄스/가수]      3100만  257억6317만  3,991개\n",
       "4  Boram Tube Vlog [보람튜브 브이로그]    [키즈/어린이]      2650만  110억5288만    223개"
      ]
     },
     "execution_count": 86,
     "metadata": {},
     "output_type": "execute_result"
    }
   ],
   "source": [
    "#엑셀 로딩 \n",
    "df = pd.read_excel('c:\\\\work\\\\youtube_rank.xlsx')\n",
    "df.head()\n"
   ]
  },
  {
   "cell_type": "code",
   "execution_count": 87,
   "metadata": {},
   "outputs": [
    {
     "data": {
      "text/plain": [
       "0    8250만\n",
       "1    7140만\n",
       "2    6850만\n",
       "3    3100만\n",
       "4    2650만\n",
       "5    2590만\n",
       "6    2570만\n",
       "7    2430만\n",
       "8    1990만\n",
       "9    1840만\n",
       "Name: subscriber, dtype: object"
      ]
     },
     "execution_count": 87,
     "metadata": {},
     "output_type": "execute_result"
    }
   ],
   "source": [
    "#데이터 살펴보기 \n",
    "df['subscriber'][0:10]"
   ]
  },
  {
   "cell_type": "code",
   "execution_count": 88,
   "metadata": {},
   "outputs": [
    {
     "data": {
      "text/plain": [
       "0    8250000\n",
       "1    7140000\n",
       "2    6850000\n",
       "3    3100000\n",
       "4    2650000\n",
       "5    2590000\n",
       "6    2570000\n",
       "7    2430000\n",
       "8    1990000\n",
       "9    1840000\n",
       "Name: subscriber, dtype: object"
      ]
     },
     "execution_count": 88,
     "metadata": {},
     "output_type": "execute_result"
    }
   ],
   "source": [
    "df['subscriber'].str.replace('만', '000')[0:10]"
   ]
  },
  {
   "cell_type": "code",
   "execution_count": 89,
   "metadata": {},
   "outputs": [
    {
     "data": {
      "text/html": [
       "<div>\n",
       "<style scoped>\n",
       "    .dataframe tbody tr th:only-of-type {\n",
       "        vertical-align: middle;\n",
       "    }\n",
       "\n",
       "    .dataframe tbody tr th {\n",
       "        vertical-align: top;\n",
       "    }\n",
       "\n",
       "    .dataframe thead th {\n",
       "        text-align: right;\n",
       "    }\n",
       "</style>\n",
       "<table border=\"1\" class=\"dataframe\">\n",
       "  <thead>\n",
       "    <tr style=\"text-align: right;\">\n",
       "      <th></th>\n",
       "      <th>title</th>\n",
       "      <th>category</th>\n",
       "      <th>subscriber</th>\n",
       "      <th>view</th>\n",
       "      <th>video</th>\n",
       "      <th>replaced_subscriber</th>\n",
       "    </tr>\n",
       "  </thead>\n",
       "  <tbody>\n",
       "    <tr>\n",
       "      <th>0</th>\n",
       "      <td>BLACKPINK</td>\n",
       "      <td>[음악/댄스/가수]</td>\n",
       "      <td>8250만</td>\n",
       "      <td>275억4684만</td>\n",
       "      <td>443개</td>\n",
       "      <td>8250000</td>\n",
       "    </tr>\n",
       "    <tr>\n",
       "      <th>1</th>\n",
       "      <td>BANGTANTV</td>\n",
       "      <td>[음악/댄스/가수]</td>\n",
       "      <td>7140만</td>\n",
       "      <td>182억2137만</td>\n",
       "      <td>1,838개</td>\n",
       "      <td>7140000</td>\n",
       "    </tr>\n",
       "    <tr>\n",
       "      <th>2</th>\n",
       "      <td>HYBE LABELS</td>\n",
       "      <td>[음악/댄스/가수]</td>\n",
       "      <td>6850만</td>\n",
       "      <td>249억0860만</td>\n",
       "      <td>1,018개</td>\n",
       "      <td>6850000</td>\n",
       "    </tr>\n",
       "    <tr>\n",
       "      <th>3</th>\n",
       "      <td>SMTOWN</td>\n",
       "      <td>[음악/댄스/가수]</td>\n",
       "      <td>3100만</td>\n",
       "      <td>257억6317만</td>\n",
       "      <td>3,991개</td>\n",
       "      <td>3100000</td>\n",
       "    </tr>\n",
       "    <tr>\n",
       "      <th>4</th>\n",
       "      <td>Boram Tube Vlog [보람튜브 브이로그]</td>\n",
       "      <td>[키즈/어린이]</td>\n",
       "      <td>2650만</td>\n",
       "      <td>110억5288만</td>\n",
       "      <td>223개</td>\n",
       "      <td>2650000</td>\n",
       "    </tr>\n",
       "  </tbody>\n",
       "</table>\n",
       "</div>"
      ],
      "text/plain": [
       "                         title    category subscriber       view   video  \\\n",
       "0                    BLACKPINK  [음악/댄스/가수]      8250만  275억4684만    443개   \n",
       "1                    BANGTANTV  [음악/댄스/가수]      7140만  182억2137만  1,838개   \n",
       "2                  HYBE LABELS  [음악/댄스/가수]      6850만  249억0860만  1,018개   \n",
       "3                       SMTOWN  [음악/댄스/가수]      3100만  257억6317만  3,991개   \n",
       "4  Boram Tube Vlog [보람튜브 브이로그]    [키즈/어린이]      2650만  110억5288만    223개   \n",
       "\n",
       "  replaced_subscriber  \n",
       "0             8250000  \n",
       "1             7140000  \n",
       "2             6850000  \n",
       "3             3100000  \n",
       "4             2650000  "
      ]
     },
     "execution_count": 89,
     "metadata": {},
     "output_type": "execute_result"
    }
   ],
   "source": [
    "#판다스에서 문자열을 다루는 다양한 함수를 제공한다. \n",
    "df['replaced_subscriber'] = df['subscriber'].str.replace('만','000')\n",
    "df.head()"
   ]
  },
  {
   "cell_type": "code",
   "execution_count": 90,
   "metadata": {},
   "outputs": [
    {
     "name": "stdout",
     "output_type": "stream",
     "text": [
      "<class 'pandas.core.frame.DataFrame'>\n",
      "RangeIndex: 1000 entries, 0 to 999\n",
      "Data columns (total 6 columns):\n",
      " #   Column               Non-Null Count  Dtype \n",
      "---  ------               --------------  ----- \n",
      " 0   title                1000 non-null   object\n",
      " 1   category             1000 non-null   object\n",
      " 2   subscriber           1000 non-null   object\n",
      " 3   view                 1000 non-null   object\n",
      " 4   video                1000 non-null   object\n",
      " 5   replaced_subscriber  1000 non-null   object\n",
      "dtypes: object(6)\n",
      "memory usage: 47.0+ KB\n"
     ]
    }
   ],
   "source": [
    "df.info()"
   ]
  },
  {
   "cell_type": "code",
   "execution_count": 91,
   "metadata": {},
   "outputs": [
    {
     "name": "stdout",
     "output_type": "stream",
     "text": [
      "<class 'pandas.core.frame.DataFrame'>\n",
      "RangeIndex: 1000 entries, 0 to 999\n",
      "Data columns (total 6 columns):\n",
      " #   Column               Non-Null Count  Dtype \n",
      "---  ------               --------------  ----- \n",
      " 0   title                1000 non-null   object\n",
      " 1   category             1000 non-null   object\n",
      " 2   subscriber           1000 non-null   object\n",
      " 3   view                 1000 non-null   object\n",
      " 4   video                1000 non-null   object\n",
      " 5   replaced_subscriber  1000 non-null   int32 \n",
      "dtypes: int32(1), object(5)\n",
      "memory usage: 43.1+ KB\n"
     ]
    }
   ],
   "source": [
    "#replaced_subscriber의 데이터 형식이 int가 아닌 것을 볼 수 있다.\n",
    "#astype()함수를 통해 변환한다. \n",
    "df['replaced_subscriber'] = df['replaced_subscriber'].astype('int')\n",
    "df.info()"
   ]
  },
  {
   "cell_type": "code",
   "execution_count": 93,
   "metadata": {},
   "outputs": [
    {
     "data": {
      "text/html": [
       "<div>\n",
       "<style scoped>\n",
       "    .dataframe tbody tr th:only-of-type {\n",
       "        vertical-align: middle;\n",
       "    }\n",
       "\n",
       "    .dataframe tbody tr th {\n",
       "        vertical-align: top;\n",
       "    }\n",
       "\n",
       "    .dataframe thead tr th {\n",
       "        text-align: left;\n",
       "    }\n",
       "\n",
       "    .dataframe thead tr:last-of-type th {\n",
       "        text-align: right;\n",
       "    }\n",
       "</style>\n",
       "<table border=\"1\" class=\"dataframe\">\n",
       "  <thead>\n",
       "    <tr>\n",
       "      <th></th>\n",
       "      <th>sum</th>\n",
       "      <th>count</th>\n",
       "    </tr>\n",
       "    <tr>\n",
       "      <th></th>\n",
       "      <th>replaced_subscriber</th>\n",
       "      <th>replaced_subscriber</th>\n",
       "    </tr>\n",
       "    <tr>\n",
       "      <th>category</th>\n",
       "      <th></th>\n",
       "      <th></th>\n",
       "    </tr>\n",
       "  </thead>\n",
       "  <tbody>\n",
       "    <tr>\n",
       "      <th>[BJ/인물/연예인]</th>\n",
       "      <td>10630000</td>\n",
       "      <td>20</td>\n",
       "    </tr>\n",
       "    <tr>\n",
       "      <th>[TV/방송]</th>\n",
       "      <td>89930000</td>\n",
       "      <td>120</td>\n",
       "    </tr>\n",
       "    <tr>\n",
       "      <th>[뉴스/정치/사회]</th>\n",
       "      <td>21480000</td>\n",
       "      <td>30</td>\n",
       "    </tr>\n",
       "    <tr>\n",
       "      <th>[미분류]</th>\n",
       "      <td>36280000</td>\n",
       "      <td>50</td>\n",
       "    </tr>\n",
       "    <tr>\n",
       "      <th>[애완/반려동물]</th>\n",
       "      <td>4710000</td>\n",
       "      <td>10</td>\n",
       "    </tr>\n",
       "    <tr>\n",
       "      <th>[음식/요리/레시피]</th>\n",
       "      <td>103070000</td>\n",
       "      <td>130</td>\n",
       "    </tr>\n",
       "    <tr>\n",
       "      <th>[음악/댄스/가수]</th>\n",
       "      <td>583770000</td>\n",
       "      <td>360</td>\n",
       "    </tr>\n",
       "    <tr>\n",
       "      <th>[키즈/어린이]</th>\n",
       "      <td>203750000</td>\n",
       "      <td>240</td>\n",
       "    </tr>\n",
       "    <tr>\n",
       "      <th>[패션/미용]</th>\n",
       "      <td>5940000</td>\n",
       "      <td>10</td>\n",
       "    </tr>\n",
       "    <tr>\n",
       "      <th>[해외]</th>\n",
       "      <td>8490000</td>\n",
       "      <td>10</td>\n",
       "    </tr>\n",
       "    <tr>\n",
       "      <th>[회사/오피셜]</th>\n",
       "      <td>12970000</td>\n",
       "      <td>20</td>\n",
       "    </tr>\n",
       "  </tbody>\n",
       "</table>\n",
       "</div>"
      ],
      "text/plain": [
       "                            sum               count\n",
       "            replaced_subscriber replaced_subscriber\n",
       "category                                           \n",
       "[BJ/인물/연예인]            10630000                  20\n",
       "[TV/방송]                89930000                 120\n",
       "[뉴스/정치/사회]             21480000                  30\n",
       "[미분류]                  36280000                  50\n",
       "[애완/반려동물]               4710000                  10\n",
       "[음식/요리/레시피]           103070000                 130\n",
       "[음악/댄스/가수]            583770000                 360\n",
       "[키즈/어린이]              203750000                 240\n",
       "[패션/미용]                 5940000                  10\n",
       "[해외]                    8490000                  10\n",
       "[회사/오피셜]               12970000                  20"
      ]
     },
     "execution_count": 93,
     "metadata": {},
     "output_type": "execute_result"
    }
   ],
   "source": [
    "#이제는 카테고리별 채널 수와 구독사 수를 파이차트로 시각화하기 위해 \n",
    "#category.컬럼에서 개별 카테고리의 개수를 세어야 하고 replaced_subscriber컬럼에서\n",
    "#카테고리별 구독자 수를 모두 더해야 한다. \n",
    "pivot_df = df.pivot_table(index = 'category', values='replaced_subscriber', aggfunc=['sum','count'])\n",
    "pivot_df"
   ]
  },
  {
   "cell_type": "code",
   "execution_count": 94,
   "metadata": {},
   "outputs": [
    {
     "data": {
      "text/html": [
       "<div>\n",
       "<style scoped>\n",
       "    .dataframe tbody tr th:only-of-type {\n",
       "        vertical-align: middle;\n",
       "    }\n",
       "\n",
       "    .dataframe tbody tr th {\n",
       "        vertical-align: top;\n",
       "    }\n",
       "\n",
       "    .dataframe thead th {\n",
       "        text-align: right;\n",
       "    }\n",
       "</style>\n",
       "<table border=\"1\" class=\"dataframe\">\n",
       "  <thead>\n",
       "    <tr style=\"text-align: right;\">\n",
       "      <th></th>\n",
       "      <th>subscriber_sum</th>\n",
       "      <th>category_count</th>\n",
       "    </tr>\n",
       "    <tr>\n",
       "      <th>category</th>\n",
       "      <th></th>\n",
       "      <th></th>\n",
       "    </tr>\n",
       "  </thead>\n",
       "  <tbody>\n",
       "    <tr>\n",
       "      <th>[BJ/인물/연예인]</th>\n",
       "      <td>10630000</td>\n",
       "      <td>20</td>\n",
       "    </tr>\n",
       "    <tr>\n",
       "      <th>[TV/방송]</th>\n",
       "      <td>89930000</td>\n",
       "      <td>120</td>\n",
       "    </tr>\n",
       "    <tr>\n",
       "      <th>[뉴스/정치/사회]</th>\n",
       "      <td>21480000</td>\n",
       "      <td>30</td>\n",
       "    </tr>\n",
       "    <tr>\n",
       "      <th>[미분류]</th>\n",
       "      <td>36280000</td>\n",
       "      <td>50</td>\n",
       "    </tr>\n",
       "    <tr>\n",
       "      <th>[애완/반려동물]</th>\n",
       "      <td>4710000</td>\n",
       "      <td>10</td>\n",
       "    </tr>\n",
       "  </tbody>\n",
       "</table>\n",
       "</div>"
      ],
      "text/plain": [
       "             subscriber_sum  category_count\n",
       "category                                   \n",
       "[BJ/인물/연예인]        10630000              20\n",
       "[TV/방송]            89930000             120\n",
       "[뉴스/정치/사회]         21480000              30\n",
       "[미분류]              36280000              50\n",
       "[애완/반려동물]           4710000              10"
      ]
     },
     "execution_count": 94,
     "metadata": {},
     "output_type": "execute_result"
    }
   ],
   "source": [
    "#결과에서 카테고리별 구독자 수와 채널 수를 확인할 수 있다. 이번에는 해당 컬럼을 알아보기 쉽게 변경한다. \n",
    "pivot_df.columns = ['subscriber_sum', 'category_count']\n",
    "pivot_df.head()\n"
   ]
  },
  {
   "cell_type": "code",
   "execution_count": 95,
   "metadata": {},
   "outputs": [
    {
     "data": {
      "text/html": [
       "<div>\n",
       "<style scoped>\n",
       "    .dataframe tbody tr th:only-of-type {\n",
       "        vertical-align: middle;\n",
       "    }\n",
       "\n",
       "    .dataframe tbody tr th {\n",
       "        vertical-align: top;\n",
       "    }\n",
       "\n",
       "    .dataframe thead th {\n",
       "        text-align: right;\n",
       "    }\n",
       "</style>\n",
       "<table border=\"1\" class=\"dataframe\">\n",
       "  <thead>\n",
       "    <tr style=\"text-align: right;\">\n",
       "      <th></th>\n",
       "      <th>category</th>\n",
       "      <th>subscriber_sum</th>\n",
       "      <th>category_count</th>\n",
       "    </tr>\n",
       "  </thead>\n",
       "  <tbody>\n",
       "    <tr>\n",
       "      <th>0</th>\n",
       "      <td>[BJ/인물/연예인]</td>\n",
       "      <td>10630000</td>\n",
       "      <td>20</td>\n",
       "    </tr>\n",
       "    <tr>\n",
       "      <th>1</th>\n",
       "      <td>[TV/방송]</td>\n",
       "      <td>89930000</td>\n",
       "      <td>120</td>\n",
       "    </tr>\n",
       "    <tr>\n",
       "      <th>2</th>\n",
       "      <td>[뉴스/정치/사회]</td>\n",
       "      <td>21480000</td>\n",
       "      <td>30</td>\n",
       "    </tr>\n",
       "    <tr>\n",
       "      <th>3</th>\n",
       "      <td>[미분류]</td>\n",
       "      <td>36280000</td>\n",
       "      <td>50</td>\n",
       "    </tr>\n",
       "    <tr>\n",
       "      <th>4</th>\n",
       "      <td>[애완/반려동물]</td>\n",
       "      <td>4710000</td>\n",
       "      <td>10</td>\n",
       "    </tr>\n",
       "  </tbody>\n",
       "</table>\n",
       "</div>"
      ],
      "text/plain": [
       "      category  subscriber_sum  category_count\n",
       "0  [BJ/인물/연예인]        10630000              20\n",
       "1      [TV/방송]        89930000             120\n",
       "2   [뉴스/정치/사회]        21480000              30\n",
       "3        [미분류]        36280000              50\n",
       "4    [애완/반려동물]         4710000              10"
      ]
     },
     "execution_count": 95,
     "metadata": {},
     "output_type": "execute_result"
    }
   ],
   "source": [
    "#각 컬럼명이 subscriber_sum과 category_count로 변경되었다. 하지만 각 컬럼은 데이터프레임에서 인덱스로 \n",
    "#설정되어 있어서 reset_index()를 사용해서 인덱스를 초기화한다.\n",
    "pivot_df = pivot_df.reset_index()\n",
    "pivot_df.head()"
   ]
  },
  {
   "cell_type": "code",
   "execution_count": 96,
   "metadata": {},
   "outputs": [
    {
     "data": {
      "text/html": [
       "<div>\n",
       "<style scoped>\n",
       "    .dataframe tbody tr th:only-of-type {\n",
       "        vertical-align: middle;\n",
       "    }\n",
       "\n",
       "    .dataframe tbody tr th {\n",
       "        vertical-align: top;\n",
       "    }\n",
       "\n",
       "    .dataframe thead th {\n",
       "        text-align: right;\n",
       "    }\n",
       "</style>\n",
       "<table border=\"1\" class=\"dataframe\">\n",
       "  <thead>\n",
       "    <tr style=\"text-align: right;\">\n",
       "      <th></th>\n",
       "      <th>category</th>\n",
       "      <th>subscriber_sum</th>\n",
       "      <th>category_count</th>\n",
       "    </tr>\n",
       "  </thead>\n",
       "  <tbody>\n",
       "    <tr>\n",
       "      <th>6</th>\n",
       "      <td>[음악/댄스/가수]</td>\n",
       "      <td>583770000</td>\n",
       "      <td>360</td>\n",
       "    </tr>\n",
       "    <tr>\n",
       "      <th>7</th>\n",
       "      <td>[키즈/어린이]</td>\n",
       "      <td>203750000</td>\n",
       "      <td>240</td>\n",
       "    </tr>\n",
       "    <tr>\n",
       "      <th>5</th>\n",
       "      <td>[음식/요리/레시피]</td>\n",
       "      <td>103070000</td>\n",
       "      <td>130</td>\n",
       "    </tr>\n",
       "    <tr>\n",
       "      <th>1</th>\n",
       "      <td>[TV/방송]</td>\n",
       "      <td>89930000</td>\n",
       "      <td>120</td>\n",
       "    </tr>\n",
       "    <tr>\n",
       "      <th>3</th>\n",
       "      <td>[미분류]</td>\n",
       "      <td>36280000</td>\n",
       "      <td>50</td>\n",
       "    </tr>\n",
       "    <tr>\n",
       "      <th>2</th>\n",
       "      <td>[뉴스/정치/사회]</td>\n",
       "      <td>21480000</td>\n",
       "      <td>30</td>\n",
       "    </tr>\n",
       "    <tr>\n",
       "      <th>10</th>\n",
       "      <td>[회사/오피셜]</td>\n",
       "      <td>12970000</td>\n",
       "      <td>20</td>\n",
       "    </tr>\n",
       "    <tr>\n",
       "      <th>0</th>\n",
       "      <td>[BJ/인물/연예인]</td>\n",
       "      <td>10630000</td>\n",
       "      <td>20</td>\n",
       "    </tr>\n",
       "    <tr>\n",
       "      <th>9</th>\n",
       "      <td>[해외]</td>\n",
       "      <td>8490000</td>\n",
       "      <td>10</td>\n",
       "    </tr>\n",
       "    <tr>\n",
       "      <th>8</th>\n",
       "      <td>[패션/미용]</td>\n",
       "      <td>5940000</td>\n",
       "      <td>10</td>\n",
       "    </tr>\n",
       "    <tr>\n",
       "      <th>4</th>\n",
       "      <td>[애완/반려동물]</td>\n",
       "      <td>4710000</td>\n",
       "      <td>10</td>\n",
       "    </tr>\n",
       "  </tbody>\n",
       "</table>\n",
       "</div>"
      ],
      "text/plain": [
       "       category  subscriber_sum  category_count\n",
       "6    [음악/댄스/가수]       583770000             360\n",
       "7      [키즈/어린이]       203750000             240\n",
       "5   [음식/요리/레시피]       103070000             130\n",
       "1       [TV/방송]        89930000             120\n",
       "3         [미분류]        36280000              50\n",
       "2    [뉴스/정치/사회]        21480000              30\n",
       "10     [회사/오피셜]        12970000              20\n",
       "0   [BJ/인물/연예인]        10630000              20\n",
       "9          [해외]         8490000              10\n",
       "8       [패션/미용]         5940000              10\n",
       "4     [애완/반려동물]         4710000              10"
      ]
     },
     "execution_count": 96,
     "metadata": {},
     "output_type": "execute_result"
    }
   ],
   "source": [
    "#데이터프레임을 내림차순 정렬하기\n",
    "pivot_df = pivot_df.sort_values(by='subscriber_sum', ascending=False)\n",
    "pivot_df"
   ]
  },
  {
   "cell_type": "code",
   "execution_count": 97,
   "metadata": {},
   "outputs": [
    {
     "data": {
      "image/png": "[encoded data removed]",
      "text/plain": [
       "<Figure size 3000x1000 with 1 Axes>"
      ]
     },
     "metadata": {},
     "output_type": "display_data"
    }
   ],
   "source": [
    "#파이차트 그리기\n",
    "#구독자수를 시각화하기 때문에 pivot_df['subscriber_sum]을 입력한다. \n",
    "#그리고 라벨을 출력하고 각 수치값을 퍼센트로 표기한다. \n",
    "plt.figure(figsize=(30,10))\n",
    "plt.pie(pivot_df['subscriber_sum'], \n",
    "    labels=pivot_df['category'], autopct='%1.1f%%')\n",
    "plt.show()"
   ]
  },
  {
   "cell_type": "code",
   "execution_count": 98,
   "metadata": {},
   "outputs": [
    {
     "data": {
      "image/png": "[encoded data removed]",
      "text/plain": [
       "<Figure size 6000x2000 with 1 Axes>"
      ]
     },
     "metadata": {},
     "output_type": "display_data"
    }
   ],
   "source": [
    "#이번에는 카테고리 채널 수를 시각화한다. \n",
    "pivot_df = pivot_df.sort_values(by='category_count', ascending=False)\n",
    "pivot_df.head()\n",
    "plt.figure(figsize=(60,20))\n",
    "plt.pie(pivot_df['category_count'], labels=pivot_df['category'], \n",
    "autopct='%1.2f%%')\n",
    "plt.show()"
   ]
  },
  {
   "cell_type": "code",
   "execution_count": null,
   "metadata": {},
   "outputs": [],
   "source": []
  }
 ],
 "metadata": {
  "kernelspec": {
   "display_name": "Python 3.9.10 64-bit",
   "language": "python",
   "name": "python3"
  },
  "language_info": {
   "codemirror_mode": {
    "name": "ipython",
    "version": 3
   },
   "file_extension": ".py",
   "mimetype": "text/x-python",
   "name": "python",
   "nbconvert_exporter": "python",
   "pygments_lexer": "ipython3",
   "version": "3.9.10"
  },
  "metadata": {
   "interpreter": {
    "hash": "2db524e06e9f5f4ffedc911c917cb75e12dbc923643829bf417064a77eb14d37"
   }
  },
  "orig_nbformat": 2,
  "vscode": {
   "interpreter": {
    "hash": "81794d4967e6c3204c66dcd87b604927b115b27c00565d3d43f05ba2f3a2cb0d"
   }
  }
 },
 "nbformat": 4,
 "nbformat_minor": 2
}
